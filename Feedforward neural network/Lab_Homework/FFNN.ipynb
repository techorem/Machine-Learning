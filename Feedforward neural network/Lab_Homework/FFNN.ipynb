{
 "cells": [
  {
   "cell_type": "code",
   "execution_count": 25,
   "metadata": {
    "collapsed": true,
    "pycharm": {
     "is_executing": false
    }
   },
   "outputs": [],
   "source": [
    "import numpy as np\n",
    "import pandas as pd"
   ]
  },
  {
   "cell_type": "code",
   "execution_count": 26,
   "outputs": [],
   "source": [
    "data = pd.read_csv(\"data_ffnn_3classes.txt\",header = None,sep=\" \")\n",
    "V_neuron= 10\n",
    "W_neuron = 3"
   ],
   "metadata": {
    "collapsed": false,
    "pycharm": {
     "name": "#%%\n",
     "is_executing": false
    }
   }
  },
  {
   "cell_type": "code",
   "execution_count": 27,
   "outputs": [],
   "source": [
    "# FRONT PROPAGATION\n",
    "def YMatrix(data):\n",
    "    Y = [[],[],[]]\n",
    "    for y in data:\n",
    "        if y == 0:\n",
    "            Y[0].append(1)\n",
    "            Y[1].append(0)\n",
    "            Y[2].append(0)\n",
    "        elif y == 1:\n",
    "            Y[0].append(0)\n",
    "            Y[1].append(1)\n",
    "            Y[2].append(0)\n",
    "        elif y == 2:\n",
    "            Y[0].append(0)\n",
    "            Y[1].append(0)\n",
    "            Y[2].append(1)\n",
    "    return np.array(Y).transpose()\n",
    "            \n",
    "\n",
    "def X2Matrix(X):\n",
    "    ones = np.ones(((np.size(X,0)),1))\n",
    "    return np.append(ones,X,axis=1)\n",
    "\n",
    "def X3Matrix(X,V):\n",
    "    return X.dot(V)\n",
    "    \n",
    "def FMatrix(X):\n",
    "    return 1/(1 + np.exp(-X))\n",
    "\n",
    "def F2Matrix(F):\n",
    "    ones = np.ones((np.size(F,0),1))\n",
    "    return np.append(ones,F,axis=1)\n",
    "\n",
    "def F3Matrix(F,W):\n",
    "    return F.dot(W)\n",
    "\n",
    "def GMatrix(F):\n",
    "    return 1/(1 + np.exp(-F))\n",
    "\n",
    "def Error(G,Y):\n",
    "    squares = (G - Y ) ** 2\n",
    "    return np.sum(squares)/2"
   ],
   "metadata": {
    "collapsed": false,
    "pycharm": {
     "name": "#%%\n",
     "is_executing": false
    }
   }
  },
  {
   "cell_type": "code",
   "execution_count": 28,
   "outputs": [],
   "source": [
    "# BACK PROPAGATION\n",
    "\n",
    "def W_Correction(G,Y,F,W,a):\n",
    "    W2 = np.zeros((np.size(W,0),np.size(W,1)))\n",
    "    for k in range(np.size(W,0)):\n",
    "        for j in range(np.size(W,1)):\n",
    "            w = W[k][j]\n",
    "            err = 0\n",
    "            for i in range(np.size(G,1)):\n",
    "                g = G[i][j]\n",
    "                y = Y[i][j]\n",
    "                f = F[i][k]\n",
    "                \n",
    "                err += (g-y) * g * (1-g) * f\n",
    "            W2[k][j] = w - (a*err)\n",
    "    return W2"
   ],
   "metadata": {
    "collapsed": false,
    "pycharm": {
     "name": "#%%\n",
     "is_executing": false
    }
   }
  },
  {
   "cell_type": "code",
   "execution_count": 29,
   "outputs": [],
   "source": [
    "# FFNN\n",
    "# \n",
    "# def FFNN():\n",
    "#     "
   ],
   "metadata": {
    "collapsed": false,
    "pycharm": {
     "name": "#%%\n",
     "is_executing": false
    }
   }
  },
  {
   "cell_type": "code",
   "execution_count": 30,
   "outputs": [
    {
     "name": "stdout",
     "text": [
      "         0       1    2\n",
      "0   1.9643  4.5957  1.0\n",
      "1   2.2753  3.8589  1.0\n",
      "2   2.9781  4.5651  1.0\n",
      "3   2.9320  3.5519  1.0\n",
      "4   3.5772  2.8560  1.0\n",
      "..     ...     ...  ...\n",
      "66  4.7483  0.7251  2.0\n",
      "67  4.2916  1.0857  2.0\n",
      "68  4.7126  0.8640  2.0\n",
      "69  4.1005  1.0058  2.0\n",
      "70  3.9601  1.4057  2.0\n",
      "\n",
      "[71 rows x 3 columns]\n",
      "[[0.40618805 0.819211   0.51796053]\n",
      " [0.28302427 0.99535218 0.06289103]\n",
      " [0.89894614 0.36646002 0.32540356]\n",
      " [0.29426918 0.66523692 0.43756582]\n",
      " [0.39921444 0.34077812 0.50039232]\n",
      " [0.48831538 0.87065915 0.60954093]\n",
      " [0.72684606 0.13443212 0.72664529]\n",
      " [0.93347577 0.46466529 0.92056566]\n",
      " [0.38923997 0.96350586 0.56471664]\n",
      " [0.02277963 0.69992566 0.87598663]\n",
      " [0.95203979 0.95526491 0.79631889]]\n",
      "\n",
      "\n",
      "[[0.39911654 0.81921321 0.51394221]\n",
      " [0.27719497 0.995354   0.05957799]\n",
      " [0.89292518 0.3664619  0.32198179]\n",
      " [0.28749969 0.66523904 0.43371881]\n",
      " [0.39384448 0.3407798  0.4973406 ]\n",
      " [0.48127863 0.87066136 0.60554235]\n",
      " [0.71980796 0.13443432 0.72264594]\n",
      " [0.92693405 0.46466733 0.91684799]\n",
      " [0.38279268 0.96350788 0.56105263]\n",
      " [0.01619457 0.69992772 0.87224458]\n",
      " [0.945342   0.95526701 0.79251275]]\n"
     ],
     "output_type": "stream"
    }
   ],
   "source": [
    "print(data)\n",
    "Y_Matrix = YMatrix(data[2])\n",
    "X_Matrix = np.array([data[0],data[1]]).transpose()\n",
    "X2_Mat = X2Matrix(X_Matrix)\n",
    "\n",
    "\n",
    "V_Mat = np.random.rand(np.size(X2_Mat,1),V_neuron)\n",
    "\n",
    "X3_Mat = X3Matrix(X2_Mat,V_Mat)\n",
    "\n",
    "F_Mat = FMatrix(X3_Mat)\n",
    "F2_Mat = F2Matrix(F_Mat)\n",
    "\n",
    "W_Mat = np.random.rand(V_neuron+1,W_neuron)\n",
    "\n",
    "F3_Mat = F3Matrix(F2_Mat,W_Mat)\n",
    "\n",
    "G_Mat = GMatrix(F3_Mat)\n",
    "\n",
    "# TODO NOT suppose to be transpose !!!!!\n",
    "E_Mat = Error(G_Mat,Y_Matrix)\n",
    "\n",
    "N_W_Mat = W_Correction(G_Mat,Y_Matrix,F2_Mat,W_Mat,0.5)\n",
    "\n",
    "print(W_Mat)\n",
    "print(\"\\n\")\n",
    "print(N_W_Mat)"
   ],
   "metadata": {
    "collapsed": false,
    "pycharm": {
     "name": "#%%\n",
     "is_executing": false
    }
   }
  }
 ],
 "metadata": {
  "kernelspec": {
   "name": "python3",
   "language": "python",
   "display_name": "Python 3"
  },
  "language_info": {
   "codemirror_mode": {
    "name": "ipython",
    "version": 2
   },
   "file_extension": ".py",
   "mimetype": "text/x-python",
   "name": "python",
   "nbconvert_exporter": "python",
   "pygments_lexer": "ipython2",
   "version": "2.7.6"
  },
  "pycharm": {
   "stem_cell": {
    "cell_type": "raw",
    "source": [],
    "metadata": {
     "collapsed": false
    }
   }
  }
 },
 "nbformat": 4,
 "nbformat_minor": 0
}