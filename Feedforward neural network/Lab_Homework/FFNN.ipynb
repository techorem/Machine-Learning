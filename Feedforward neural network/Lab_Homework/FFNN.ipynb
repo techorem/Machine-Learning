{
 "cells": [
  {
   "cell_type": "code",
   "execution_count": 78,
   "metadata": {
    "collapsed": true,
    "pycharm": {
     "is_executing": false
    }
   },
   "outputs": [],
   "source": [
    "import numpy as np\n",
    "import pandas as pd\n",
    "import matplotlib.pyplot as plt"
   ]
  },
  {
   "cell_type": "code",
   "execution_count": 79,
   "outputs": [],
   "source": [
    "data = pd.read_csv(\"data_ffnn_3classes.txt\",header = None,sep=\" \")\n",
    "V_neuron= 3\n",
    "W_neuron = 3\n",
    "\n",
    "Erro_History = []"
   ],
   "metadata": {
    "collapsed": false,
    "pycharm": {
     "name": "#%%\n",
     "is_executing": false
    }
   }
  },
  {
   "cell_type": "code",
   "execution_count": 80,
   "outputs": [],
   "source": [
    "# FRONT PROPAGATION\n",
    "def YMatrix(data):\n",
    "    Y = [[],[],[]]\n",
    "    for y in data:\n",
    "        if y == 0:\n",
    "            Y[0].append(1)\n",
    "            Y[1].append(0)\n",
    "            Y[2].append(0)\n",
    "        elif y == 1:\n",
    "            Y[0].append(0)\n",
    "            Y[1].append(1)\n",
    "            Y[2].append(0)\n",
    "        elif y == 2:\n",
    "            Y[0].append(0)\n",
    "            Y[1].append(0)\n",
    "            Y[2].append(1)\n",
    "    return np.array(Y).transpose()\n",
    "            \n",
    "\n",
    "def X2Matrix(X):\n",
    "    ones = np.ones(((np.size(X,0)),1))\n",
    "    return np.append(ones,X,axis=1)\n",
    "\n",
    "def X3Matrix(X,V):\n",
    "    return X.dot(V)\n",
    "    \n",
    "def FMatrix(X):\n",
    "    return 1/(1 + np.exp(-X))\n",
    "\n",
    "def F2Matrix(F):\n",
    "    ones = np.ones((np.size(F,0),1))\n",
    "    return np.append(ones,F,axis=1)\n",
    "\n",
    "def F3Matrix(F,W):\n",
    "    return F.dot(W)\n",
    "\n",
    "def GMatrix(F):\n",
    "    return 1/(1 + np.exp(-F))\n",
    "\n",
    "def Error(G,Y):\n",
    "    err = 0\n",
    "    for i in range(np.size(G,0)):\n",
    "        for j in range(np.size(G,1)):\n",
    "            err += (G[i][j] - Y[i][j] ) ** 2\n",
    "    return err/2"
   ],
   "metadata": {
    "collapsed": false,
    "pycharm": {
     "name": "#%%\n",
     "is_executing": false
    }
   }
  },
  {
   "cell_type": "code",
   "execution_count": 81,
   "outputs": [],
   "source": [
    "# BACK PROPAGATION\n",
    "# Weight correction\n",
    "\n",
    "def W_Correction(G,Y,F,W,a):\n",
    "    W2 = np.zeros((np.size(W,0),np.size(W,1)))\n",
    "    for k in range(np.size(W,0)):\n",
    "        for j in range(np.size(W,1)):\n",
    "            w = W[k][j]\n",
    "            err = 0\n",
    "            for i in range(np.size(G,1)):\n",
    "                g = G[i][j]\n",
    "                y = Y[i][j]\n",
    "                f = F[i][k]\n",
    "                \n",
    "                err += (g-y) * g * (1-g) * f\n",
    "            W2[k][j] = w - (a*err)\n",
    "    return W2\n",
    "\n",
    "\n",
    "def v_correction(g_mat, y_mat, f_mat, w_mat, x_mat_ext, v_mat, alpha):\n",
    "    v_matrix_new = np.zeros((np.size(v_mat, 0),np.size(v_mat, 1)))\n",
    "    for n in range(np.size(x_mat_ext, 1)):\n",
    "        for k in range(np.size(v_mat, 1)):\n",
    "            v = v_mat[n][k]\n",
    "            err = 0\n",
    "            for i in range(np.size(g_mat, 0)):\n",
    "                f = f_mat[i][k]\n",
    "                x_ext = x_mat_ext[i][n]\n",
    "                \n",
    "                for j in range(np.size(g_mat, 1)):\n",
    "                    g = g_mat[i][j]\n",
    "                    y = y_mat[i][j]\n",
    "                    w = w_mat[k][j]\n",
    "                    err += (g-y) * g * (-g) * w * f * (1-f) * x_ext\n",
    "            v_matrix_new[n][k] = v - (alpha*err)\n",
    "    return v_matrix_new"
   ],
   "metadata": {
    "collapsed": false,
    "pycharm": {
     "name": "#%%\n",
     "is_executing": false
    }
   }
  },
  {
   "cell_type": "code",
   "execution_count": 82,
   "outputs": [],
   "source": [
    "# FFNN\n",
    "# Learning Loop\n",
    "\n",
    "def FFNN(X2,Y,G,W,V,F,a,iter = 5000):\n",
    "    new_v = V\n",
    "    new_x2 = X2\n",
    "    new_g = G\n",
    "    new_w = W\n",
    "    new_f = F\n",
    "    i=0\n",
    "    while i <= iter:\n",
    "        new_v = v_correction(new_g,Y,new_f,new_w,new_x2,new_v,a)\n",
    "        \n",
    "        X3_Mat = X3Matrix(new_x2,new_v)\n",
    "        \n",
    "        new_f = FMatrix(X3_Mat)\n",
    "        F2_Mat = F2Matrix(new_f)\n",
    "        \n",
    "        new_w = W_Correction(new_g,Y,F2_Mat,new_w,a*2)\n",
    "        \n",
    "        F3_Mat = F3Matrix(F2_Mat,new_w)\n",
    "        \n",
    "        new_g = GMatrix(F3_Mat)\n",
    "        \n",
    "        err = Error(new_g,Y)\n",
    "        Erro_History.append(err)\n",
    "        \n",
    "        i +=1\n",
    "    return  new_g"
   ],
   "metadata": {
    "collapsed": false,
    "pycharm": {
     "name": "#%%\n",
     "is_executing": false
    }
   }
  },
  {
   "cell_type": "code",
   "execution_count": 83,
   "outputs": [],
   "source": [
    "def ShowErrorLog():\n",
    "    plt.plot(Erro_History)\n",
    "    plt.ylabel(\"Error\")\n",
    "    plt.xlabel(\"Itteration\")\n",
    "    plt.show()"
   ],
   "metadata": {
    "collapsed": false,
    "pycharm": {
     "name": "#%%\n",
     "is_executing": false
    }
   }
  },
  {
   "cell_type": "code",
   "execution_count": 84,
   "outputs": [
    {
     "name": "stdout",
     "text": [
      "         0       1    2\n",
      "0   1.9643  4.5957  1.0\n",
      "1   2.2753  3.8589  1.0\n",
      "2   2.9781  4.5651  1.0\n",
      "3   2.9320  3.5519  1.0\n",
      "4   3.5772  2.8560  1.0\n",
      "..     ...     ...  ...\n",
      "66  4.7483  0.7251  2.0\n",
      "67  4.2916  1.0857  2.0\n",
      "68  4.7126  0.8640  2.0\n",
      "69  4.1005  1.0058  2.0\n",
      "70  3.9601  1.4057  2.0\n",
      "\n",
      "[71 rows x 3 columns]\n",
      "[[0.21211622 0.90400832 0.20066503]\n",
      " [0.21215802 0.90398108 0.20069444]\n",
      " [0.21206616 0.90403709 0.20062349]\n",
      " [0.2121194  0.90400381 0.2006617 ]\n",
      " [0.21212572 0.90399932 0.20066263]\n",
      " [0.21207751 0.90402964 0.20062933]\n",
      " [0.21209597 0.9040182  0.20064341]\n",
      " [0.21205565 0.90404319 0.20061491]\n",
      " [0.21209493 0.90401944 0.20064493]\n",
      " [0.21207877 0.9040298  0.2006338 ]\n",
      " [0.21207399 0.90403199 0.20062829]\n",
      " [0.21215221 0.90398271 0.20068342]\n",
      " [0.21218391 0.90396665 0.20071767]\n",
      " [0.21210881 0.90401189 0.20065762]\n",
      " [0.21215408 0.90398232 0.20068824]\n",
      " [0.21206789 0.90403588 0.20062436]\n",
      " [0.21206656 0.90403651 0.20062264]\n",
      " [0.21207246 0.90403279 0.20062619]\n",
      " [0.21210218 0.9040142  0.20064683]\n",
      " [0.21213195 0.9039957  0.20066989]\n",
      " [0.21249832 0.90377026 0.20096517]\n",
      " [0.21237122 0.90384627 0.20085647]\n",
      " [0.21260812 0.90369231 0.20103218]\n",
      " [0.21246614 0.90378193 0.20091778]\n",
      " [0.21234992 0.90385757 0.20083368]\n",
      " [0.21229117 0.90389359 0.20078216]\n",
      " [0.2123307  0.90386766 0.20080529]\n",
      " [0.21277232 0.90357847 0.20112406]\n",
      " [0.21251775 0.90374655 0.20094681]\n",
      " [0.21346513 0.90312218 0.20165615]\n",
      " [0.21290712 0.90349347 0.20124522]\n",
      " [0.21425418 0.90261903 0.20232425]\n",
      " [0.2125623  0.90372324 0.20100101]\n",
      " [0.21268827 0.90364746 0.20111037]\n",
      " [0.21304498 0.90341294 0.20137889]\n",
      " [0.21322393 0.90328931 0.20149944]\n",
      " [0.21431873 0.90255779 0.20232602]\n",
      " [0.21406515 0.90276855 0.20222512]\n",
      " [0.21324619 0.90329639 0.20156529]\n",
      " [0.21374409 0.90299484 0.20199675]\n",
      " [0.21295558 0.90349591 0.20135503]\n",
      " [0.2128557  0.90354813 0.20125696]\n",
      " [0.21256905 0.90373085 0.20103042]\n",
      " [0.21284647 0.903531   0.20118902]\n",
      " [0.21242017 0.90381088 0.20088019]\n",
      " [0.21260263 0.90368992 0.20099526]\n",
      " [0.21388512 0.90283384 0.20192757]\n",
      " [0.21229898 0.90388942 0.20079266]\n",
      " [0.21353197 0.90312606 0.20181724]\n",
      " [0.21486817 0.90225382 0.2028887 ]\n",
      " [0.21329564 0.90335048 0.20171436]\n",
      " [0.21209944 0.90401627 0.20064196]\n",
      " [0.21221783 0.90394199 0.20071755]\n",
      " [0.21210266 0.90401497 0.20064244]\n",
      " [0.21240347 0.90382371 0.20083668]\n",
      " [0.21223881 0.90392956 0.20072893]\n",
      " [0.21221461 0.9039428  0.20072061]\n",
      " [0.21210386 0.90401421 0.20064323]\n",
      " [0.21212826 0.90399857 0.20065965]\n",
      " [0.2123361  0.90386537 0.20079799]\n",
      " [0.21210005 0.90401628 0.20064136]\n",
      " [0.21234053 0.90386338 0.20079791]\n",
      " [0.21226705 0.90391262 0.20074509]\n",
      " [0.2121423  0.90399054 0.20066706]\n",
      " [0.21207166 0.90403362 0.20062377]\n",
      " [0.21249951 0.9037612  0.20090064]\n",
      " [0.21233486 0.90387167 0.20078472]\n",
      " [0.21235161 0.90385837 0.20079997]\n",
      " [0.21229952 0.9038932  0.20076373]\n",
      " [0.2124601  0.90378875 0.20086987]\n",
      " [0.21234411 0.9038613  0.20079961]]\n"
     ],
     "output_type": "stream"
    },
    {
     "data": {
      "text/plain": "<Figure size 432x288 with 1 Axes>",
      "image/png": "[encoded data removed]"
     },
     "metadata": {
      "needs_background": "light"
     },
     "output_type": "display_data"
    }
   ],
   "source": [
    "print(data)\n",
    "\n",
    "Y_Matrix = YMatrix(data[2])\n",
    "X_Matrix = np.array([data[0],data[1]]).transpose()\n",
    "X2_Mat = X2Matrix(X_Matrix)\n",
    "\n",
    "V_Mat = np.random.rand(np.size(X2_Mat,1),V_neuron)\n",
    "\n",
    "X3_Mat = X3Matrix(X2_Mat,V_Mat)\n",
    "\n",
    "F_Mat = FMatrix(X3_Mat)\n",
    "F2_Mat = F2Matrix(F_Mat)\n",
    "\n",
    "W_Mat = np.random.rand(V_neuron+1,W_neuron)\n",
    "\n",
    "F3_Mat = F3Matrix(F2_Mat,W_Mat)\n",
    "\n",
    "G_Mat = GMatrix(F3_Mat)\n",
    "\n",
    "E_Mat = Error(G_Mat,Y_Matrix)\n",
    "\n",
    "Erro_History.append(E_Mat)\n",
    "\n",
    "Result = FFNN(X2_Mat,Y_Matrix,G_Mat,W_Mat,V_Mat,F_Mat,0.0005,iter=3000)\n",
    "ShowErrorLog()\n",
    "print(Result)"
   ],
   "metadata": {
    "collapsed": false,
    "pycharm": {
     "name": "#%%\n",
     "is_executing": false
    }
   }
  }
 ],
 "metadata": {
  "kernelspec": {
   "name": "python3",
   "language": "python",
   "display_name": "Python 3"
  },
  "language_info": {
   "codemirror_mode": {
    "name": "ipython",
    "version": 2
   },
   "file_extension": ".py",
   "mimetype": "text/x-python",
   "name": "python",
   "nbconvert_exporter": "python",
   "pygments_lexer": "ipython2",
   "version": "2.7.6"
  },
  "pycharm": {
   "stem_cell": {
    "cell_type": "raw",
    "source": [],
    "metadata": {
     "collapsed": false
    }
   }
  }
 },
 "nbformat": 4,
 "nbformat_minor": 0
}