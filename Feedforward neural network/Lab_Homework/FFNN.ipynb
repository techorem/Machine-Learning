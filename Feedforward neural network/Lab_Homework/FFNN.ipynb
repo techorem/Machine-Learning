{
 "cells": [
  {
   "cell_type": "code",
   "execution_count": 85,
   "metadata": {
    "collapsed": true,
    "pycharm": {
     "is_executing": false
    }
   },
   "outputs": [],
   "source": [
    "import numpy as np\n",
    "import pandas as pd\n",
    "import matplotlib.pyplot as plt"
   ]
  },
  {
   "cell_type": "code",
   "execution_count": 86,
   "outputs": [],
   "source": [
    "data = pd.read_csv(\"data_ffnn_3classes.txt\",header = None,sep=\" \")\n",
    "V_neuron= 4\n",
    "W_neuron = 3\n",
    "\n",
    "Erro_History = []"
   ],
   "metadata": {
    "collapsed": false,
    "pycharm": {
     "name": "#%%\n",
     "is_executing": false
    }
   }
  },
  {
   "cell_type": "code",
   "execution_count": 87,
   "outputs": [],
   "source": [
    "# FRONT PROPAGATION\n",
    "def YMatrix(data):\n",
    "    Y = [[],[],[]]\n",
    "    for y in data:\n",
    "        if y == 0:\n",
    "            Y[0].append(1)\n",
    "            Y[1].append(0)\n",
    "            Y[2].append(0)\n",
    "        elif y == 1:\n",
    "            Y[0].append(0)\n",
    "            Y[1].append(1)\n",
    "            Y[2].append(0)\n",
    "        elif y == 2:\n",
    "            Y[0].append(0)\n",
    "            Y[1].append(0)\n",
    "            Y[2].append(1)\n",
    "    return np.array(Y).transpose()\n",
    "            \n",
    "def sigmoid(x):\n",
    "    return 1/(1+np.exp(-x))\n",
    "\n",
    "def X2Matrix(X):\n",
    "    ones = np.ones(((np.size(X,0)),1))\n",
    "    return np.append(ones,X,axis=1)\n",
    "\n",
    "def X3Matrix(X,V):\n",
    "    return X.dot(V)\n",
    "    \n",
    "def FMatrix(X):\n",
    "    return sigmoid(X)\n",
    "\n",
    "def F2Matrix(F):\n",
    "    ones = np.ones((np.size(F,0),1))\n",
    "    return np.append(ones,F,axis=1)\n",
    "\n",
    "def F3Matrix(F,W):\n",
    "    return F.dot(W)\n",
    "\n",
    "def GMatrix(F):\n",
    "    return sigmoid(F)\n",
    "\n",
    "def Error(G,Y):\n",
    "    err = (G - Y) ** 2\n",
    "    return err.sum()/2"
   ],
   "metadata": {
    "collapsed": false,
    "pycharm": {
     "name": "#%%\n",
     "is_executing": false
    }
   }
  },
  {
   "cell_type": "code",
   "execution_count": 88,
   "outputs": [],
   "source": [
    "# BACK PROPAGATION\n",
    "# Weight correction\n",
    "\n",
    "def W_Correction(G,Y,F,W,a):\n",
    "    W2 = np.zeros((np.size(W,0),np.size(W,1)))\n",
    "    for k in range(np.size(W,0)):\n",
    "        for j in range(np.size(W,1)):\n",
    "            w = W[k][j]\n",
    "            err = 0\n",
    "            for i in range(np.size(G,1)):\n",
    "                g = G[i][j]\n",
    "                y = Y[i][j]\n",
    "                f = F[i][k]\n",
    "                \n",
    "                err += (g-y) * g * (1-g) * f\n",
    "            W2[k][j] = w - (a * err)\n",
    "    return W2\n",
    "\n",
    "\n",
    "def v_correction(g_mat, y_mat, f_mat, w_mat, x_mat_ext, v_mat, alpha):\n",
    "    v_matrix_new = np.zeros((np.size(v_mat, 0),np.size(v_mat, 1)))\n",
    "    for n in range(np.size(x_mat_ext, 1)):\n",
    "        for k in range(np.size(v_mat, 1)):\n",
    "            v = v_mat[n][k]\n",
    "            err = 0\n",
    "            for i in range(np.size(g_mat, 0)):\n",
    "                f = f_mat[i][k]\n",
    "                x_ext = x_mat_ext[i][n]\n",
    "                for j in range(np.size(g_mat, 1)):\n",
    "                    g = g_mat[i][j]\n",
    "                    y = y_mat[i][j]\n",
    "                    w = w_mat[k][j]\n",
    "                    err += (g-y) * g * (-g) * w * f * (1-f) * x_ext\n",
    "            v_matrix_new[n][k] = v - (alpha*err)\n",
    "    return v_matrix_new"
   ],
   "metadata": {
    "collapsed": false,
    "pycharm": {
     "name": "#%%\n",
     "is_executing": false
    }
   }
  },
  {
   "cell_type": "code",
   "execution_count": 89,
   "outputs": [],
   "source": [
    "# FFNN\n",
    "# Learning Loop\n",
    "\n",
    "def FFNN(X2,Y,G,W,V,a,iter = 5000):\n",
    "    new_v = V\n",
    "    new_x2 = X2\n",
    "    new_g = G\n",
    "    new_w = W\n",
    "    i=0\n",
    "    while i <= iter:\n",
    "        \n",
    "        X3_Mat = X3Matrix(new_x2,new_v)\n",
    "        \n",
    "        new_f = FMatrix(X3_Mat)\n",
    "        F2_Mat = F2Matrix(new_f)\n",
    "        \n",
    "        new_w = W_Correction(new_g,Y,F2_Mat,new_w,a)\n",
    "        \n",
    "        new_v = v_correction(new_g,Y,new_f,new_w,new_x2,new_v,a)\n",
    "        \n",
    "        F3_Mat = F3Matrix(F2_Mat,new_w)\n",
    "        \n",
    "        new_g = GMatrix(F3_Mat)\n",
    "        \n",
    "        err = Error(new_g,Y)\n",
    "        Erro_History.append(err)\n",
    "        \n",
    "        i +=1\n",
    "    return  new_g"
   ],
   "metadata": {
    "collapsed": false,
    "pycharm": {
     "name": "#%%\n",
     "is_executing": false
    }
   }
  },
  {
   "cell_type": "code",
   "execution_count": 90,
   "outputs": [],
   "source": [
    "def ShowErrorLog():\n",
    "    plt.plot(Erro_History)\n",
    "    plt.ylabel(\"Error\")\n",
    "    plt.xlabel(\"Itteration\")\n",
    "    plt.show()"
   ],
   "metadata": {
    "collapsed": false,
    "pycharm": {
     "name": "#%%\n",
     "is_executing": false
    }
   }
  },
  {
   "cell_type": "code",
   "execution_count": 91,
   "outputs": [
    {
     "name": "stdout",
     "text": [
      "         0       1    2\n",
      "0   1.9643  4.5957  1.0\n",
      "1   2.2753  3.8589  1.0\n",
      "2   2.9781  4.5651  1.0\n",
      "3   2.9320  3.5519  1.0\n",
      "4   3.5772  2.8560  1.0\n",
      "..     ...     ...  ...\n",
      "66  4.7483  0.7251  2.0\n",
      "67  4.2916  1.0857  2.0\n",
      "68  4.7126  0.8640  2.0\n",
      "69  4.1005  1.0058  2.0\n",
      "70  3.9601  1.4057  2.0\n",
      "\n",
      "[71 rows x 3 columns]\n",
      "\n",
      "\n",
      "[[0.08002069 0.93863205 0.08338234]\n",
      " [0.08002553 0.93862897 0.08338576]\n",
      " [0.0800166  0.93863487 0.08337932]\n",
      " [0.08002165 0.93863173 0.08338291]\n",
      " [0.0800224  0.93863145 0.08338337]\n",
      " [0.08001761 0.93863434 0.08338001]\n",
      " [0.08001933 0.93863326 0.08338124]\n",
      " [0.08001588 0.93863534 0.08337879]\n",
      " [0.0800191  0.93863329 0.08338112]\n",
      " [0.08001755 0.93863424 0.08338002]\n",
      " [0.08001729 0.93863448 0.08337981]\n",
      " [0.08002538 0.93862948 0.0833855 ]\n",
      " [0.08002804 0.93862705 0.08338765]\n",
      " [0.0800202  0.93863246 0.08338196]\n",
      " [0.08002541 0.93862925 0.0833856 ]\n",
      " [0.08001676 0.93863478 0.08337944]\n",
      " [0.08001669 0.93863486 0.08337937]\n",
      " [0.08001718 0.93863458 0.08337972]\n",
      " [0.08001995 0.93863292 0.08338167]\n",
      " [0.08002305 0.93863089 0.08338389]\n",
      " [0.08007143 0.93859618 0.08341882]\n",
      " [0.08005386 0.93860964 0.08340589]\n",
      " [0.08009223 0.93858326 0.08343279]\n",
      " [0.08006961 0.93859978 0.08341658]\n",
      " [0.0800515  0.93861187 0.08340398]\n",
      " [0.0800435  0.93861791 0.08339811]\n",
      " [0.08004923 0.93861462 0.08340191]\n",
      " [0.08012364 0.93856498 0.08345326]\n",
      " [0.08007858 0.93859459 0.08342247]\n",
      " [0.08026277 0.93846457 0.08355076]\n",
      " [0.08014776 0.93854559 0.08347108]\n",
      " [0.08043177 0.93832817 0.08367407]\n",
      " [0.08008404 0.93858863 0.08342718]\n",
      " [0.08010324 0.93857349 0.08344137]\n",
      " [0.0801702  0.93852563 0.08348844]\n",
      " [0.08020869 0.93849989 0.08351457]\n",
      " [0.08045666 0.93831814 0.08368782]\n",
      " [0.08037494 0.93836301 0.08363749]\n",
      " [0.08020323 0.93849684 0.08351373]\n",
      " [0.08029557 0.93842011 0.08358253]\n",
      " [0.08014216 0.93854026 0.0834711 ]\n",
      " [0.08012926 0.93855244 0.08346076]\n",
      " [0.08008051 0.93858854 0.08342577]\n",
      " [0.08013711 0.93855444 0.0834631 ]\n",
      " [0.0800626  0.93860488 0.08341155]\n",
      " [0.08009311 0.93858623 0.08343197]\n",
      " [0.08036019 0.93840129 0.08361546]\n",
      " [0.08004439 0.93861693 0.08339888]\n",
      " [0.08025411 0.938454   0.08355193]\n",
      " [0.0805574  0.93821472 0.08377052]\n",
      " [0.08017244 0.93850483 0.08349841]\n",
      " [0.0800195  0.93863333 0.0833813 ]\n",
      " [0.08003269 0.9386257  0.0833903 ]\n",
      " [0.08001954 0.93863338 0.08338131]\n",
      " [0.08005818 0.93861059 0.08340744]\n",
      " [0.08003494 0.93862454 0.08339177]\n",
      " [0.08003291 0.93862521 0.08339057]\n",
      " [0.08001966 0.93863331 0.0833814 ]\n",
      " [0.08002227 0.93863179 0.0833832 ]\n",
      " [0.08004919 0.93861556 0.08340155]\n",
      " [0.0800194  0.93863343 0.08338123]\n",
      " [0.08004937 0.93861571 0.08340159]\n",
      " [0.08003813 0.93862281 0.08339388]\n",
      " [0.08002345 0.93863119 0.08338398]\n",
      " [0.08001698 0.93863477 0.08337955]\n",
      " [0.0800733  0.93860129 0.08341762]\n",
      " [0.08004624 0.93861835 0.08339922]\n",
      " [0.08004989 0.93861583 0.08340179]\n",
      " [0.08004187 0.93862078 0.08339634]\n",
      " [0.08006598 0.93860622 0.08341255]\n",
      " [0.08004977 0.93861552 0.08340184]]\n"
     ],
     "output_type": "stream"
    },
    {
     "data": {
      "text/plain": "<Figure size 432x288 with 1 Axes>",
      "image/png": "[encoded data removed]"
     },
     "metadata": {
      "needs_background": "light"
     },
     "output_type": "display_data"
    }
   ],
   "source": [
    "print(data)\n",
    "print(\"\\n\")\n",
    "\n",
    "Y_Matrix = YMatrix(data[2])\n",
    "X_Matrix = np.array([data[0],data[1]]).transpose()\n",
    "X2_Mat = X2Matrix(X_Matrix)\n",
    "\n",
    "V_Mat = np.random.rand(np.size(X2_Mat,1),V_neuron)\n",
    "\n",
    "X3_Mat = X3Matrix(X2_Mat,V_Mat)\n",
    "\n",
    "F_Mat = FMatrix(X3_Mat)\n",
    "F2_Mat = F2Matrix(F_Mat)\n",
    "\n",
    "W_Mat = np.random.rand(V_neuron+1,W_neuron)\n",
    "\n",
    "F3_Mat = F3Matrix(F2_Mat,W_Mat)\n",
    "\n",
    "G_Mat = GMatrix(F3_Mat)\n",
    "\n",
    "E_Mat = Error(G_Mat,Y_Matrix)\n",
    "\n",
    "Erro_History.append(E_Mat)\n",
    "\n",
    "Result = FFNN(X2_Mat,Y_Matrix,G_Mat,W_Mat,V_Mat,9e-5,iter = 1e5)\n",
    "ShowErrorLog()\n",
    "print(Result)"
   ],
   "metadata": {
    "collapsed": false,
    "pycharm": {
     "name": "#%%\n",
     "is_executing": false
    }
   }
  }
 ],
 "metadata": {
  "kernelspec": {
   "name": "python3",
   "language": "python",
   "display_name": "Python 3"
  },
  "language_info": {
   "codemirror_mode": {
    "name": "ipython",
    "version": 2
   },
   "file_extension": ".py",
   "mimetype": "text/x-python",
   "name": "python",
   "nbconvert_exporter": "python",
   "pygments_lexer": "ipython2",
   "version": "2.7.6"
  },
  "pycharm": {
   "stem_cell": {
    "cell_type": "raw",
    "source": [],
    "metadata": {
     "collapsed": false
    }
   }
  }
 },
 "nbformat": 4,
 "nbformat_minor": 0
}