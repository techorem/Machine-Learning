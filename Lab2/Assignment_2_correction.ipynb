{
  "nbformat": 4,
  "nbformat_minor": 0,
  "metadata": {
    "anaconda-cloud": {},
    "kernelspec": {
      "display_name": "Python 3",
      "language": "python",
      "name": "python3"
    },
    "language_info": {
      "codemirror_mode": {
        "name": "ipython",
        "version": 3
      },
      "file_extension": ".py",
      "mimetype": "text/x-python",
      "name": "python",
      "nbconvert_exporter": "python",
      "pygments_lexer": "ipython3",
      "version": "3.6.5"
    },
    "colab": {
      "name": "Assignment_2_correction.ipynb",
      "provenance": [],
      "collapsed_sections": []
    }
  },
  "cells": [
    {
      "cell_type": "markdown",
      "metadata": {
        "id": "fNQWdqc1bg9z",
        "colab_type": "text"
      },
      "source": [
        "# Assignment 2"
      ]
    },
    {
      "cell_type": "markdown",
      "metadata": {
        "id": "VSZdJRcVbg-Q",
        "colab_type": "text"
      },
      "source": [
        "In this Assignment, you will explore the **FIFA 19** dataset, which contains detailed attributes for every player registered in the latest edition of FIFA 19 database.    \n",
        "It was scrapped from this [website](https://sofifa.com/), and you can find the source code [here](https://github.com/amanthedorkknight/fifa18-all-player-statistics/tree/master/2019).\n",
        "\n",
        "Your goal is to find out how the `Overall` score by player is calculated\n",
        "\n",
        "There are 2 main parts:\n",
        "\n",
        "* Data Import & Cleaning, the output of this part is provided in the csv file `Assignment_2_data_cleaned`, **so you do not need to have everything right in this part to do the second one**\n",
        "* Modeling with the cleaned data"
      ]
    },
    {
      "cell_type": "markdown",
      "metadata": {
        "id": "cYxZfH7Wbg-b",
        "colab_type": "text"
      },
      "source": [
        "In the notebook, there will be cells in the form `assert condition` like the next one. They are used to check if an answer is correct.  \n",
        "Execute the next one and you will get no errors"
      ]
    },
    {
      "cell_type": "code",
      "metadata": {
        "id": "dwCzh6q6bg-z",
        "colab_type": "code",
        "colab": {}
      },
      "source": [
        "assert 3 < 5"
      ],
      "execution_count": 0,
      "outputs": []
    },
    {
      "cell_type": "markdown",
      "metadata": {
        "id": "U3l6Zqribg_B",
        "colab_type": "text"
      },
      "source": [
        "Execute the next one and you will get an error"
      ]
    },
    {
      "cell_type": "code",
      "metadata": {
        "id": "yTlfwg6Zbg_D",
        "colab_type": "code",
        "colab": {
          "base_uri": "https://localhost:8080/",
          "height": 164
        },
        "outputId": "9f11cf5d-b575-4b53-d220-f496ea3b0c09"
      },
      "source": [
        "assert 3 > 5"
      ],
      "execution_count": 2,
      "outputs": [
        {
          "output_type": "error",
          "ename": "AssertionError",
          "evalue": "ignored",
          "traceback": [
            "\u001b[0;31m---------------------------------------------------------------------------\u001b[0m",
            "\u001b[0;31mAssertionError\u001b[0m                            Traceback (most recent call last)",
            "\u001b[0;32m<ipython-input-2-b0727cfa3567>\u001b[0m in \u001b[0;36m<module>\u001b[0;34m()\u001b[0m\n\u001b[0;32m----> 1\u001b[0;31m \u001b[0;32massert\u001b[0m \u001b[0;36m3\u001b[0m \u001b[0;34m>\u001b[0m \u001b[0;36m5\u001b[0m\u001b[0;34m\u001b[0m\u001b[0;34m\u001b[0m\u001b[0m\n\u001b[0m",
            "\u001b[0;31mAssertionError\u001b[0m: "
          ]
        }
      ]
    },
    {
      "cell_type": "markdown",
      "metadata": {
        "id": "Ll9S1M8bbg_S",
        "colab_type": "text"
      },
      "source": [
        "# Data Import"
      ]
    },
    {
      "cell_type": "code",
      "metadata": {
        "id": "9aTMpp7Ubg_b",
        "colab_type": "code",
        "colab": {}
      },
      "source": [
        "import pandas as pd\n",
        "import numpy as np\n",
        "import matplotlib.pyplot as plt\n",
        "%matplotlib inline"
      ],
      "execution_count": 0,
      "outputs": []
    },
    {
      "cell_type": "code",
      "metadata": {
        "id": "SAtDigdUb0eE",
        "colab_type": "code",
        "colab": {
          "base_uri": "https://localhost:8080/",
          "height": 119
        },
        "outputId": "47ef94d5-2260-499c-c6d0-66eda0efcee8"
      },
      "source": [
        "import os\n",
        "from google.colab import drive\n",
        "drive.mount('/content/drive', force_remount=False)\n",
        "\n",
        "os.chdir(\"/content/drive/My Drive/ECE ML/Week 2/PW_2\")\n",
        "!ls"
      ],
      "execution_count": 6,
      "outputs": [
        {
          "output_type": "stream",
          "text": [
            "Drive already mounted at /content/drive; to attempt to forcibly remount, call drive.mount(\"/content/drive\", force_remount=True).\n",
            " Assignment_2_correction.ipynb\t Bike_Rental_Starter.ipynb\n",
            " Assignment_2_data_cleaned.csv\t'Bike Rental UCI dataset.csv'\n",
            " Assignment_2_data.csv\t\t Gradient_Descent_animation.ipynb\n",
            " Assignment_2.ipynb\t\t gradient_descent.gif\n",
            " Bike_Rental.ipynb\n"
          ],
          "name": "stdout"
        }
      ]
    },
    {
      "cell_type": "markdown",
      "metadata": {
        "id": "cYWsuf8Ebg_j",
        "colab_type": "text"
      },
      "source": [
        "1.1. Load the csv file `data.csv` into a dataframe called `df` and print its shape. (Set the right parameters when reading the csv file)       "
      ]
    },
    {
      "cell_type": "code",
      "metadata": {
        "id": "1SnjUBiabg_j",
        "colab_type": "code",
        "colab": {
          "base_uri": "https://localhost:8080/",
          "height": 34
        },
        "outputId": "934530fa-ec7b-49d5-eff2-61f0d79d7746"
      },
      "source": [
        "df = pd.read_csv('Assignment_2_data.csv',index_col=0)\n",
        "df.shape"
      ],
      "execution_count": 24,
      "outputs": [
        {
          "output_type": "execute_result",
          "data": {
            "text/plain": [
              "(18207, 88)"
            ]
          },
          "metadata": {
            "tags": []
          },
          "execution_count": 24
        }
      ]
    },
    {
      "cell_type": "code",
      "metadata": {
        "id": "kKHGlf_3bg_t",
        "colab_type": "code",
        "colab": {}
      },
      "source": [
        "# check if your answer is correct\n",
        "assert df.shape == (18207, 88)"
      ],
      "execution_count": 0,
      "outputs": []
    },
    {
      "cell_type": "markdown",
      "metadata": {
        "id": "XIboHto6bg_4",
        "colab_type": "text"
      },
      "source": [
        "1.2. print the head of `df`"
      ]
    },
    {
      "cell_type": "code",
      "metadata": {
        "id": "Pvq4TC0Vbg_4",
        "colab_type": "code",
        "colab": {
          "base_uri": "https://localhost:8080/",
          "height": 228
        },
        "outputId": "2d1a8dc5-fe4f-4201-c1bd-d964bf39c5cd"
      },
      "source": [
        "df.head(2)"
      ],
      "execution_count": 26,
      "outputs": [
        {
          "output_type": "execute_result",
          "data": {
            "text/html": [
              "<div>\n",
              "<style scoped>\n",
              "    .dataframe tbody tr th:only-of-type {\n",
              "        vertical-align: middle;\n",
              "    }\n",
              "\n",
              "    .dataframe tbody tr th {\n",
              "        vertical-align: top;\n",
              "    }\n",
              "\n",
              "    .dataframe thead th {\n",
              "        text-align: right;\n",
              "    }\n",
              "</style>\n",
              "<table border=\"1\" class=\"dataframe\">\n",
              "  <thead>\n",
              "    <tr style=\"text-align: right;\">\n",
              "      <th></th>\n",
              "      <th>ID</th>\n",
              "      <th>Name</th>\n",
              "      <th>Age</th>\n",
              "      <th>Photo</th>\n",
              "      <th>Nationality</th>\n",
              "      <th>Flag</th>\n",
              "      <th>Overall</th>\n",
              "      <th>Potential</th>\n",
              "      <th>Club</th>\n",
              "      <th>Club Logo</th>\n",
              "      <th>Value</th>\n",
              "      <th>Wage</th>\n",
              "      <th>Special</th>\n",
              "      <th>Preferred Foot</th>\n",
              "      <th>International Reputation</th>\n",
              "      <th>Weak Foot</th>\n",
              "      <th>Skill Moves</th>\n",
              "      <th>Work Rate</th>\n",
              "      <th>Body Type</th>\n",
              "      <th>Real Face</th>\n",
              "      <th>Position</th>\n",
              "      <th>Jersey Number</th>\n",
              "      <th>Joined</th>\n",
              "      <th>Loaned From</th>\n",
              "      <th>Contract Valid Until</th>\n",
              "      <th>Height</th>\n",
              "      <th>Weight</th>\n",
              "      <th>LS</th>\n",
              "      <th>ST</th>\n",
              "      <th>RS</th>\n",
              "      <th>LW</th>\n",
              "      <th>LF</th>\n",
              "      <th>CF</th>\n",
              "      <th>RF</th>\n",
              "      <th>RW</th>\n",
              "      <th>LAM</th>\n",
              "      <th>CAM</th>\n",
              "      <th>RAM</th>\n",
              "      <th>LM</th>\n",
              "      <th>LCM</th>\n",
              "      <th>...</th>\n",
              "      <th>LB</th>\n",
              "      <th>LCB</th>\n",
              "      <th>CB</th>\n",
              "      <th>RCB</th>\n",
              "      <th>RB</th>\n",
              "      <th>Crossing</th>\n",
              "      <th>Finishing</th>\n",
              "      <th>HeadingAccuracy</th>\n",
              "      <th>ShortPassing</th>\n",
              "      <th>Volleys</th>\n",
              "      <th>Dribbling</th>\n",
              "      <th>Curve</th>\n",
              "      <th>FKAccuracy</th>\n",
              "      <th>LongPassing</th>\n",
              "      <th>BallControl</th>\n",
              "      <th>Acceleration</th>\n",
              "      <th>SprintSpeed</th>\n",
              "      <th>Agility</th>\n",
              "      <th>Reactions</th>\n",
              "      <th>Balance</th>\n",
              "      <th>ShotPower</th>\n",
              "      <th>Jumping</th>\n",
              "      <th>Stamina</th>\n",
              "      <th>Strength</th>\n",
              "      <th>LongShots</th>\n",
              "      <th>Aggression</th>\n",
              "      <th>Interceptions</th>\n",
              "      <th>Positioning</th>\n",
              "      <th>Vision</th>\n",
              "      <th>Penalties</th>\n",
              "      <th>Composure</th>\n",
              "      <th>Marking</th>\n",
              "      <th>StandingTackle</th>\n",
              "      <th>SlidingTackle</th>\n",
              "      <th>GKDiving</th>\n",
              "      <th>GKHandling</th>\n",
              "      <th>GKKicking</th>\n",
              "      <th>GKPositioning</th>\n",
              "      <th>GKReflexes</th>\n",
              "      <th>Release Clause</th>\n",
              "    </tr>\n",
              "  </thead>\n",
              "  <tbody>\n",
              "    <tr>\n",
              "      <th>0</th>\n",
              "      <td>158023</td>\n",
              "      <td>L. Messi</td>\n",
              "      <td>31</td>\n",
              "      <td>https://cdn.sofifa.org/players/4/19/158023.png</td>\n",
              "      <td>Argentina</td>\n",
              "      <td>https://cdn.sofifa.org/flags/52.png</td>\n",
              "      <td>94</td>\n",
              "      <td>94</td>\n",
              "      <td>FC Barcelona</td>\n",
              "      <td>https://cdn.sofifa.org/teams/2/light/241.png</td>\n",
              "      <td>€110.5M</td>\n",
              "      <td>€565K</td>\n",
              "      <td>2202</td>\n",
              "      <td>Left</td>\n",
              "      <td>5.0</td>\n",
              "      <td>4.0</td>\n",
              "      <td>4.0</td>\n",
              "      <td>Medium/ Medium</td>\n",
              "      <td>Messi</td>\n",
              "      <td>Yes</td>\n",
              "      <td>RF</td>\n",
              "      <td>10.0</td>\n",
              "      <td>Jul 1, 2004</td>\n",
              "      <td>NaN</td>\n",
              "      <td>2021</td>\n",
              "      <td>5'7</td>\n",
              "      <td>159lbs</td>\n",
              "      <td>88+2</td>\n",
              "      <td>88+2</td>\n",
              "      <td>88+2</td>\n",
              "      <td>92+2</td>\n",
              "      <td>93+2</td>\n",
              "      <td>93+2</td>\n",
              "      <td>93+2</td>\n",
              "      <td>92+2</td>\n",
              "      <td>93+2</td>\n",
              "      <td>93+2</td>\n",
              "      <td>93+2</td>\n",
              "      <td>91+2</td>\n",
              "      <td>84+2</td>\n",
              "      <td>...</td>\n",
              "      <td>59+2</td>\n",
              "      <td>47+2</td>\n",
              "      <td>47+2</td>\n",
              "      <td>47+2</td>\n",
              "      <td>59+2</td>\n",
              "      <td>84.0</td>\n",
              "      <td>95.0</td>\n",
              "      <td>70.0</td>\n",
              "      <td>90.0</td>\n",
              "      <td>86.0</td>\n",
              "      <td>97.0</td>\n",
              "      <td>93.0</td>\n",
              "      <td>94.0</td>\n",
              "      <td>87.0</td>\n",
              "      <td>96.0</td>\n",
              "      <td>91.0</td>\n",
              "      <td>86.0</td>\n",
              "      <td>91.0</td>\n",
              "      <td>95.0</td>\n",
              "      <td>95.0</td>\n",
              "      <td>85.0</td>\n",
              "      <td>68.0</td>\n",
              "      <td>72.0</td>\n",
              "      <td>59.0</td>\n",
              "      <td>94.0</td>\n",
              "      <td>48.0</td>\n",
              "      <td>22.0</td>\n",
              "      <td>94.0</td>\n",
              "      <td>94.0</td>\n",
              "      <td>75.0</td>\n",
              "      <td>96.0</td>\n",
              "      <td>33.0</td>\n",
              "      <td>28.0</td>\n",
              "      <td>26.0</td>\n",
              "      <td>6.0</td>\n",
              "      <td>11.0</td>\n",
              "      <td>15.0</td>\n",
              "      <td>14.0</td>\n",
              "      <td>8.0</td>\n",
              "      <td>€226.5M</td>\n",
              "    </tr>\n",
              "    <tr>\n",
              "      <th>1</th>\n",
              "      <td>20801</td>\n",
              "      <td>Cristiano Ronaldo</td>\n",
              "      <td>33</td>\n",
              "      <td>https://cdn.sofifa.org/players/4/19/20801.png</td>\n",
              "      <td>Portugal</td>\n",
              "      <td>https://cdn.sofifa.org/flags/38.png</td>\n",
              "      <td>94</td>\n",
              "      <td>94</td>\n",
              "      <td>Juventus</td>\n",
              "      <td>https://cdn.sofifa.org/teams/2/light/45.png</td>\n",
              "      <td>€77M</td>\n",
              "      <td>€405K</td>\n",
              "      <td>2228</td>\n",
              "      <td>Right</td>\n",
              "      <td>5.0</td>\n",
              "      <td>4.0</td>\n",
              "      <td>5.0</td>\n",
              "      <td>High/ Low</td>\n",
              "      <td>C. Ronaldo</td>\n",
              "      <td>Yes</td>\n",
              "      <td>ST</td>\n",
              "      <td>7.0</td>\n",
              "      <td>Jul 10, 2018</td>\n",
              "      <td>NaN</td>\n",
              "      <td>2022</td>\n",
              "      <td>6'2</td>\n",
              "      <td>183lbs</td>\n",
              "      <td>91+3</td>\n",
              "      <td>91+3</td>\n",
              "      <td>91+3</td>\n",
              "      <td>89+3</td>\n",
              "      <td>90+3</td>\n",
              "      <td>90+3</td>\n",
              "      <td>90+3</td>\n",
              "      <td>89+3</td>\n",
              "      <td>88+3</td>\n",
              "      <td>88+3</td>\n",
              "      <td>88+3</td>\n",
              "      <td>88+3</td>\n",
              "      <td>81+3</td>\n",
              "      <td>...</td>\n",
              "      <td>61+3</td>\n",
              "      <td>53+3</td>\n",
              "      <td>53+3</td>\n",
              "      <td>53+3</td>\n",
              "      <td>61+3</td>\n",
              "      <td>84.0</td>\n",
              "      <td>94.0</td>\n",
              "      <td>89.0</td>\n",
              "      <td>81.0</td>\n",
              "      <td>87.0</td>\n",
              "      <td>88.0</td>\n",
              "      <td>81.0</td>\n",
              "      <td>76.0</td>\n",
              "      <td>77.0</td>\n",
              "      <td>94.0</td>\n",
              "      <td>89.0</td>\n",
              "      <td>91.0</td>\n",
              "      <td>87.0</td>\n",
              "      <td>96.0</td>\n",
              "      <td>70.0</td>\n",
              "      <td>95.0</td>\n",
              "      <td>95.0</td>\n",
              "      <td>88.0</td>\n",
              "      <td>79.0</td>\n",
              "      <td>93.0</td>\n",
              "      <td>63.0</td>\n",
              "      <td>29.0</td>\n",
              "      <td>95.0</td>\n",
              "      <td>82.0</td>\n",
              "      <td>85.0</td>\n",
              "      <td>95.0</td>\n",
              "      <td>28.0</td>\n",
              "      <td>31.0</td>\n",
              "      <td>23.0</td>\n",
              "      <td>7.0</td>\n",
              "      <td>11.0</td>\n",
              "      <td>15.0</td>\n",
              "      <td>14.0</td>\n",
              "      <td>11.0</td>\n",
              "      <td>€127.1M</td>\n",
              "    </tr>\n",
              "  </tbody>\n",
              "</table>\n",
              "<p>2 rows × 88 columns</p>\n",
              "</div>"
            ],
            "text/plain": [
              "       ID               Name  Age  ... GKPositioning GKReflexes Release Clause\n",
              "0  158023           L. Messi   31  ...          14.0        8.0        €226.5M\n",
              "1   20801  Cristiano Ronaldo   33  ...          14.0       11.0        €127.1M\n",
              "\n",
              "[2 rows x 88 columns]"
            ]
          },
          "metadata": {
            "tags": []
          },
          "execution_count": 26
        }
      ]
    },
    {
      "cell_type": "markdown",
      "metadata": {
        "id": "vUbYPo7Tbg_6",
        "colab_type": "text"
      },
      "source": [
        "1.3. Print how many columns that are in df columns types"
      ]
    },
    {
      "cell_type": "code",
      "metadata": {
        "id": "nhfNvtqRbg_6",
        "colab_type": "code",
        "colab": {
          "base_uri": "https://localhost:8080/",
          "height": 85
        },
        "outputId": "b1fc106b-5ac6-48bc-ffa4-f65777a43844"
      },
      "source": [
        "df.dtypes.value_counts()"
      ],
      "execution_count": 27,
      "outputs": [
        {
          "output_type": "execute_result",
          "data": {
            "text/plain": [
              "object     45\n",
              "float64    38\n",
              "int64       5\n",
              "dtype: int64"
            ]
          },
          "metadata": {
            "tags": []
          },
          "execution_count": 27
        }
      ]
    },
    {
      "cell_type": "markdown",
      "metadata": {
        "id": "98kFgIgMbg_8",
        "colab_type": "text"
      },
      "source": [
        "1.4. `to_drop` is a list containing columns that are not useful for modeling, remove them and print the new shape of `df`"
      ]
    },
    {
      "cell_type": "code",
      "metadata": {
        "id": "NOqvZQTrbhAB",
        "colab_type": "code",
        "colab": {
          "base_uri": "https://localhost:8080/",
          "height": 34
        },
        "outputId": "5a9fb65f-16dc-4565-db6c-f1649e76076d"
      },
      "source": [
        "to_drop =['ID', 'Name', 'Photo','Nationality', 'Flag','Club','Club Logo', 'Real Face', 'Joined', 'Loaned From', 'Contract Valid Until']\n",
        "df.drop(to_drop, axis = 1, inplace = True)\n",
        "df.shape"
      ],
      "execution_count": 28,
      "outputs": [
        {
          "output_type": "execute_result",
          "data": {
            "text/plain": [
              "(18207, 77)"
            ]
          },
          "metadata": {
            "tags": []
          },
          "execution_count": 28
        }
      ]
    },
    {
      "cell_type": "code",
      "metadata": {
        "id": "qfB07JDpbhAK",
        "colab_type": "code",
        "colab": {}
      },
      "source": [
        "# check if your answer is correct\n",
        "assert df.shape == (18207, 77)"
      ],
      "execution_count": 0,
      "outputs": []
    },
    {
      "cell_type": "markdown",
      "metadata": {
        "id": "tbe5lkmsbhAL",
        "colab_type": "text"
      },
      "source": [
        "# Data Cleaning"
      ]
    },
    {
      "cell_type": "markdown",
      "metadata": {
        "id": "qok5XpNabhAL",
        "colab_type": "text"
      },
      "source": [
        "## Handling missing values"
      ]
    },
    {
      "cell_type": "markdown",
      "metadata": {
        "id": "5MZa9K5PbhAR",
        "colab_type": "text"
      },
      "source": [
        "2.1. Build a dataframe called `missing` which has the following format:\n",
        "\n",
        "* `pct` is the percentage of missing values, **takes values between `0` and `100`**\n",
        "* the index is the column names\n",
        "\n",
        "|     | pct |\n",
        "|-----|-----|\n",
        "|......|.....|\n",
        "|Strength |0.263635|\n",
        "|.....|.....|\n",
        "\n"
      ]
    },
    {
      "cell_type": "code",
      "metadata": {
        "id": "2qV8BawJbhAU",
        "colab_type": "code",
        "colab": {}
      },
      "source": [
        "missing = pd.DataFrame(df.isnull().sum() / len(df) * 100, columns=['pct'])"
      ],
      "execution_count": 0,
      "outputs": []
    },
    {
      "cell_type": "markdown",
      "metadata": {
        "id": "4xqc5zNUbhAV",
        "colab_type": "text"
      },
      "source": [
        "2.2. Remove from `missing`, rows with `pct`= 0   \n",
        "sort `missing` in ascending order of `pct` and print its head"
      ]
    },
    {
      "cell_type": "code",
      "metadata": {
        "id": "3dorTPrYbhAV",
        "colab_type": "code",
        "colab": {
          "base_uri": "https://localhost:8080/",
          "height": 204
        },
        "outputId": "e2b0846f-9bc8-438c-de27-fd190be18998"
      },
      "source": [
        "missing = missing[missing['pct'] != 0]\n",
        "missing.sort_values('pct', inplace = True)\n",
        "missing.head()"
      ],
      "execution_count": 31,
      "outputs": [
        {
          "output_type": "execute_result",
          "data": {
            "text/html": [
              "<div>\n",
              "<style scoped>\n",
              "    .dataframe tbody tr th:only-of-type {\n",
              "        vertical-align: middle;\n",
              "    }\n",
              "\n",
              "    .dataframe tbody tr th {\n",
              "        vertical-align: top;\n",
              "    }\n",
              "\n",
              "    .dataframe thead th {\n",
              "        text-align: right;\n",
              "    }\n",
              "</style>\n",
              "<table border=\"1\" class=\"dataframe\">\n",
              "  <thead>\n",
              "    <tr style=\"text-align: right;\">\n",
              "      <th></th>\n",
              "      <th>pct</th>\n",
              "    </tr>\n",
              "  </thead>\n",
              "  <tbody>\n",
              "    <tr>\n",
              "      <th>Preferred Foot</th>\n",
              "      <td>0.263635</td>\n",
              "    </tr>\n",
              "    <tr>\n",
              "      <th>Strength</th>\n",
              "      <td>0.263635</td>\n",
              "    </tr>\n",
              "    <tr>\n",
              "      <th>Stamina</th>\n",
              "      <td>0.263635</td>\n",
              "    </tr>\n",
              "    <tr>\n",
              "      <th>Jumping</th>\n",
              "      <td>0.263635</td>\n",
              "    </tr>\n",
              "    <tr>\n",
              "      <th>ShotPower</th>\n",
              "      <td>0.263635</td>\n",
              "    </tr>\n",
              "  </tbody>\n",
              "</table>\n",
              "</div>"
            ],
            "text/plain": [
              "                     pct\n",
              "Preferred Foot  0.263635\n",
              "Strength        0.263635\n",
              "Stamina         0.263635\n",
              "Jumping         0.263635\n",
              "ShotPower       0.263635"
            ]
          },
          "metadata": {
            "tags": []
          },
          "execution_count": 31
        }
      ]
    },
    {
      "cell_type": "markdown",
      "metadata": {
        "id": "A3Ypn4OdbhAX",
        "colab_type": "text"
      },
      "source": [
        "2.3. Now, let's fill missing values where the % of missing is lower than 1 (1%).   \n",
        "First identify these columns in a list named `cols_to_fill`"
      ]
    },
    {
      "cell_type": "code",
      "metadata": {
        "id": "wrect0ZhbhAf",
        "colab_type": "code",
        "colab": {
          "base_uri": "https://localhost:8080/",
          "height": 34
        },
        "outputId": "6087481e-eb46-47b2-b558-5c0a8e73109a"
      },
      "source": [
        "threshold_missing_to_fill = 1\n",
        "cols_to_fill = list(missing[missing['pct'] < threshold_missing_to_fill].index)\n",
        "print(len(cols_to_fill), type(cols_to_fill))"
      ],
      "execution_count": 32,
      "outputs": [
        {
          "output_type": "stream",
          "text": [
            "44 <class 'list'>\n"
          ],
          "name": "stdout"
        }
      ]
    },
    {
      "cell_type": "code",
      "metadata": {
        "id": "5OX_Z_9obhAg",
        "colab_type": "code",
        "colab": {}
      },
      "source": [
        "# check if your answer is correct\n",
        "assert len(cols_to_fill) == 44; assert isinstance(cols_to_fill, list)"
      ],
      "execution_count": 0,
      "outputs": []
    },
    {
      "cell_type": "markdown",
      "metadata": {
        "id": "f_cJ1ws5bhAh",
        "colab_type": "text"
      },
      "source": [
        "2.4. define a function (`fill_nas_by_type`) to fill null values by column type:\n",
        "\n",
        "* if a column type is `Object`, fill it with the **most frequent value**\n",
        "* otherwise, fill it with the **median value**"
      ]
    },
    {
      "cell_type": "code",
      "metadata": {
        "code_folding": [],
        "id": "j8UhYzLTbhAi",
        "colab_type": "code",
        "colab": {}
      },
      "source": [
        "def fill_nas_by_type(df, col_name):\n",
        "    \"\"\"Fill null values in df according to col_name type\n",
        "    \n",
        "    Parameters\n",
        "    ----------\n",
        "    df : dataframe, (default=None)\n",
        "        input dataframe\n",
        "    col_name : str, (default=None)\n",
        "        column with null values to fill\n",
        "        \n",
        "    Returns\n",
        "    -------\n",
        "    df with filled values in col_name\n",
        "    \"\"\"\n",
        "    if df[col_name].isnull().sum() == 0:\n",
        "        print('!! Warning : %s does not have null values' % col_name)\n",
        "        return df\n",
        "    if df[col_name].dtype == 'O':\n",
        "        fill_value = df[col_name].value_counts().index[0]\n",
        "        df[col_name].fillna(fill_value, inplace = True)\n",
        "    else:\n",
        "        fill_value = df[col_name].median()\n",
        "        df[col_name].fillna(fill_value, inplace = True)\n",
        "    return df"
      ],
      "execution_count": 0,
      "outputs": []
    },
    {
      "cell_type": "markdown",
      "metadata": {
        "id": "0Pb-qbetbhAj",
        "colab_type": "text"
      },
      "source": [
        "Loop through `cols_to_fill` and apply the defined function `fill_nas_by_type` to fill null values"
      ]
    },
    {
      "cell_type": "code",
      "metadata": {
        "id": "pdb_xCOhbhAj",
        "colab_type": "code",
        "colab": {}
      },
      "source": [
        "for f in cols_to_fill:\n",
        "    df = fill_nas_by_type(df.copy(), col_name = f)"
      ],
      "execution_count": 0,
      "outputs": []
    },
    {
      "cell_type": "code",
      "metadata": {
        "id": "q0_Tq4ukbhAk",
        "colab_type": "code",
        "colab": {}
      },
      "source": [
        "# check if your answer is correct\n",
        "assert df[cols_to_fill].isnull().sum().sum() == 0"
      ],
      "execution_count": 0,
      "outputs": []
    },
    {
      "cell_type": "markdown",
      "metadata": {
        "id": "ZLoU3etBbhAl",
        "colab_type": "text"
      },
      "source": [
        "For the remaining missing values, let's just remove them.    \n",
        "Print the shape of `df` before and after removing any rows with missing observations"
      ]
    },
    {
      "cell_type": "code",
      "metadata": {
        "id": "w1w4bSM3bhAl",
        "colab_type": "code",
        "colab": {
          "base_uri": "https://localhost:8080/",
          "height": 51
        },
        "outputId": "e84e2e25-130a-4a00-8c5e-bda46a58f3d9"
      },
      "source": [
        "print(df.shape)\n",
        "df.dropna(axis = 0, inplace = True)\n",
        "print(df.shape)"
      ],
      "execution_count": 37,
      "outputs": [
        {
          "output_type": "stream",
          "text": [
            "(18207, 77)\n",
            "(14743, 77)\n"
          ],
          "name": "stdout"
        }
      ]
    },
    {
      "cell_type": "code",
      "metadata": {
        "id": "fmYTidQ8bhAm",
        "colab_type": "code",
        "colab": {}
      },
      "source": [
        "# check if your answer is correct\n",
        "assert df.shape == (14743, 77); assert df.isnull().sum().sum() == 0"
      ],
      "execution_count": 0,
      "outputs": []
    },
    {
      "cell_type": "markdown",
      "metadata": {
        "heading_collapsed": true,
        "id": "wnpUJmoTbhAn",
        "colab_type": "text"
      },
      "source": [
        "## Correct some columns format"
      ]
    },
    {
      "cell_type": "markdown",
      "metadata": {
        "hidden": true,
        "id": "UyyTE40GbhAn",
        "colab_type": "text"
      },
      "source": [
        "### Monetary columns"
      ]
    },
    {
      "cell_type": "code",
      "metadata": {
        "hidden": true,
        "id": "6MbtIOaFbhAo",
        "colab_type": "code",
        "colab": {
          "base_uri": "https://localhost:8080/",
          "height": 204
        },
        "outputId": "ca632707-d38b-41d2-cfad-2533ab9a7bd8"
      },
      "source": [
        "money_cols = ['Value','Wage', 'Release Clause']\n",
        "df[money_cols].head()"
      ],
      "execution_count": 39,
      "outputs": [
        {
          "output_type": "execute_result",
          "data": {
            "text/html": [
              "<div>\n",
              "<style scoped>\n",
              "    .dataframe tbody tr th:only-of-type {\n",
              "        vertical-align: middle;\n",
              "    }\n",
              "\n",
              "    .dataframe tbody tr th {\n",
              "        vertical-align: top;\n",
              "    }\n",
              "\n",
              "    .dataframe thead th {\n",
              "        text-align: right;\n",
              "    }\n",
              "</style>\n",
              "<table border=\"1\" class=\"dataframe\">\n",
              "  <thead>\n",
              "    <tr style=\"text-align: right;\">\n",
              "      <th></th>\n",
              "      <th>Value</th>\n",
              "      <th>Wage</th>\n",
              "      <th>Release Clause</th>\n",
              "    </tr>\n",
              "  </thead>\n",
              "  <tbody>\n",
              "    <tr>\n",
              "      <th>0</th>\n",
              "      <td>€110.5M</td>\n",
              "      <td>€565K</td>\n",
              "      <td>€226.5M</td>\n",
              "    </tr>\n",
              "    <tr>\n",
              "      <th>1</th>\n",
              "      <td>€77M</td>\n",
              "      <td>€405K</td>\n",
              "      <td>€127.1M</td>\n",
              "    </tr>\n",
              "    <tr>\n",
              "      <th>2</th>\n",
              "      <td>€118.5M</td>\n",
              "      <td>€290K</td>\n",
              "      <td>€228.1M</td>\n",
              "    </tr>\n",
              "    <tr>\n",
              "      <th>4</th>\n",
              "      <td>€102M</td>\n",
              "      <td>€355K</td>\n",
              "      <td>€196.4M</td>\n",
              "    </tr>\n",
              "    <tr>\n",
              "      <th>5</th>\n",
              "      <td>€93M</td>\n",
              "      <td>€340K</td>\n",
              "      <td>€172.1M</td>\n",
              "    </tr>\n",
              "  </tbody>\n",
              "</table>\n",
              "</div>"
            ],
            "text/plain": [
              "     Value   Wage Release Clause\n",
              "0  €110.5M  €565K        €226.5M\n",
              "1     €77M  €405K        €127.1M\n",
              "2  €118.5M  €290K        €228.1M\n",
              "4    €102M  €355K        €196.4M\n",
              "5     €93M  €340K        €172.1M"
            ]
          },
          "metadata": {
            "tags": []
          },
          "execution_count": 39
        }
      ]
    },
    {
      "cell_type": "markdown",
      "metadata": {
        "hidden": true,
        "id": "FcwyhKNAbhAp",
        "colab_type": "text"
      },
      "source": [
        "3.1. Build a function which extracts the monetary value from a string. It should return a number with no decimals.   \n",
        "Your function should pass the three tests in the cell after"
      ]
    },
    {
      "cell_type": "code",
      "metadata": {
        "code_folding": [
          0
        ],
        "hidden": true,
        "id": "JYDLkjQybhAq",
        "colab_type": "code",
        "colab": {}
      },
      "source": [
        "def get_value(value_text):\n",
        "    \"\"\"Extract the monetary value from a string\n",
        "    \n",
        "    Parameters\n",
        "    ----------\n",
        "    value_text: str, (default=None)\n",
        "        a string containing a number ending with M, K or nothing\n",
        "        \n",
        "    Returns\n",
        "    -------\n",
        "    a float with no decimals\n",
        "    \n",
        "    Examples\n",
        "    --------\n",
        "    >>> get_value('€7.1K')\n",
        "    7100.0\n",
        "    \"\"\"\n",
        "    multiplier = value_text[-1]\n",
        "    if multiplier == 'M':\n",
        "        number = float(value_text[1:-1])\n",
        "        return number * 1000000\n",
        "    elif multiplier == 'K':\n",
        "        number = float(value_text[1:-1])\n",
        "        return number * 1000\n",
        "    else:\n",
        "        return float(value_text[1:])    "
      ],
      "execution_count": 0,
      "outputs": []
    },
    {
      "cell_type": "code",
      "metadata": {
        "hidden": true,
        "id": "vIwp0PLIbhAv",
        "colab_type": "code",
        "colab": {}
      },
      "source": [
        "# check if your answer is correct\n",
        "assert get_value('€110.5M') == 110500000; assert get_value('€7.1K') == 7100; assert get_value('€200') == 200"
      ],
      "execution_count": 0,
      "outputs": []
    },
    {
      "cell_type": "markdown",
      "metadata": {
        "hidden": true,
        "id": "WQZaJv02bhAw",
        "colab_type": "text"
      },
      "source": [
        "3.2. Loop through `money_cols` and apply the defined function `get_value` to convert them to numeric"
      ]
    },
    {
      "cell_type": "code",
      "metadata": {
        "hidden": true,
        "scrolled": false,
        "id": "coiRPanYbhAw",
        "colab_type": "code",
        "colab": {
          "base_uri": "https://localhost:8080/",
          "height": 68
        },
        "outputId": "a4ed29ea-1709-4032-9edf-4093be7604c8"
      },
      "source": [
        "for f in money_cols:\n",
        "    df[f] =df[f].apply(get_value)\n",
        "    print(f, df[f].dtype, df[f].isnull().sum())"
      ],
      "execution_count": 42,
      "outputs": [
        {
          "output_type": "stream",
          "text": [
            "Value float64 0\n",
            "Wage float64 0\n",
            "Release Clause float64 0\n"
          ],
          "name": "stdout"
        }
      ]
    },
    {
      "cell_type": "code",
      "metadata": {
        "hidden": true,
        "id": "KETbTh96bhAx",
        "colab_type": "code",
        "colab": {
          "base_uri": "https://localhost:8080/",
          "height": 255
        },
        "outputId": "92aa84d5-dae7-4630-9373-440a6bbec0ce"
      },
      "source": [
        "# check if your answer is correct\n",
        "assert df[money_cols].isnull().sum().sum() == 0\n",
        "print(df[money_cols])"
      ],
      "execution_count": 44,
      "outputs": [
        {
          "output_type": "stream",
          "text": [
            "             Value      Wage  Release Clause\n",
            "0      110500000.0  565000.0     226500000.0\n",
            "1       77000000.0  405000.0     127100000.0\n",
            "2      118500000.0  290000.0     228100000.0\n",
            "4      102000000.0  355000.0     196400000.0\n",
            "5       93000000.0  340000.0     172100000.0\n",
            "...            ...       ...             ...\n",
            "18202      60000.0    1000.0        143000.0\n",
            "18203      60000.0    1000.0        113000.0\n",
            "18204      60000.0    1000.0        165000.0\n",
            "18205      60000.0    1000.0        143000.0\n",
            "18206      60000.0    1000.0        165000.0\n",
            "\n",
            "[14743 rows x 3 columns]\n"
          ],
          "name": "stdout"
        }
      ]
    },
    {
      "cell_type": "markdown",
      "metadata": {
        "hidden": true,
        "id": "P865pzmPbhAy",
        "colab_type": "text"
      },
      "source": [
        "### Height and Weight columns"
      ]
    },
    {
      "cell_type": "markdown",
      "metadata": {
        "hidden": true,
        "id": "yWlzKh9DbhAy",
        "colab_type": "text"
      },
      "source": [
        "4.1. Start by printing the unique values for `Height`"
      ]
    },
    {
      "cell_type": "code",
      "metadata": {
        "hidden": true,
        "id": "NUfUklN2bhAz",
        "colab_type": "code",
        "colab": {
          "base_uri": "https://localhost:8080/",
          "height": 68
        },
        "outputId": "03715181-a491-4626-a45a-136de704df1c"
      },
      "source": [
        "# print unique values for Height\n",
        "df['Height'].unique()"
      ],
      "execution_count": 45,
      "outputs": [
        {
          "output_type": "execute_result",
          "data": {
            "text/plain": [
              "array([\"5'7\", \"6'2\", \"5'9\", \"5'11\", \"5'8\", \"6'0\", \"5'6\", \"5'10\", \"6'1\",\n",
              "       \"5'4\", \"6'3\", \"6'4\", \"5'5\", \"6'6\", \"6'5\", \"5'3\", \"5'2\", \"6'7\",\n",
              "       \"5'1\", \"6'8\"], dtype=object)"
            ]
          },
          "metadata": {
            "tags": []
          },
          "execution_count": 45
        }
      ]
    },
    {
      "cell_type": "markdown",
      "metadata": {
        "hidden": true,
        "id": "k_oXT31SbhA0",
        "colab_type": "text"
      },
      "source": [
        "4.2. Write a function (`get_height`) which converts the Height from a string in feet to  a number in `cm` with no decimals.    \n",
        "1 feet = 30.48 cm. For example `get_height(\"5'10\")` = `155`"
      ]
    },
    {
      "cell_type": "code",
      "metadata": {
        "hidden": true,
        "id": "qFmXjDcmbhA0",
        "colab_type": "code",
        "colab": {}
      },
      "source": [
        "def get_height(x):\n",
        "    return  round(float(x.replace(\"'\", \".\")) * 30.48, 0) "
      ],
      "execution_count": 0,
      "outputs": []
    },
    {
      "cell_type": "code",
      "metadata": {
        "hidden": true,
        "id": "ZxHFT6U9bhA2",
        "colab_type": "code",
        "colab": {}
      },
      "source": [
        "# check if your answer is correct\n",
        "assert get_height(\"5'10\") == 155; assert get_height(\"6'8\") == 207"
      ],
      "execution_count": 0,
      "outputs": []
    },
    {
      "cell_type": "markdown",
      "metadata": {
        "hidden": true,
        "id": "Lvfx7ctjbhA4",
        "colab_type": "text"
      },
      "source": [
        "Apply the previous defined function on `Height`"
      ]
    },
    {
      "cell_type": "code",
      "metadata": {
        "hidden": true,
        "id": "Kr0hlFIMbhA4",
        "colab_type": "code",
        "colab": {}
      },
      "source": [
        "df['Height'] = df['Height'].apply(get_height)"
      ],
      "execution_count": 0,
      "outputs": []
    },
    {
      "cell_type": "code",
      "metadata": {
        "hidden": true,
        "id": "vdxPgt98bhA5",
        "colab_type": "code",
        "colab": {}
      },
      "source": [
        "# check if your answer is correct\n",
        "assert df['Height'].dtype == 'float64'; assert df['Height'].isnull().sum() == 0"
      ],
      "execution_count": 0,
      "outputs": []
    },
    {
      "cell_type": "markdown",
      "metadata": {
        "hidden": true,
        "id": "Ww3vaBYQbhA5",
        "colab_type": "text"
      },
      "source": [
        "4.3. The same thing with `Weight`, print the unique values"
      ]
    },
    {
      "cell_type": "code",
      "metadata": {
        "hidden": true,
        "id": "SEymoC_HbhA6",
        "colab_type": "code",
        "colab": {
          "base_uri": "https://localhost:8080/",
          "height": 170
        },
        "outputId": "bd45c151-b7fc-4479-8d18-bf2887cbecf4"
      },
      "source": [
        "# print unique values for Weight\n",
        "df['Weight'].unique()"
      ],
      "execution_count": 50,
      "outputs": [
        {
          "output_type": "execute_result",
          "data": {
            "text/plain": [
              "array(['159lbs', '183lbs', '150lbs', '154lbs', '163lbs', '146lbs',\n",
              "       '190lbs', '181lbs', '176lbs', '168lbs', '172lbs', '148lbs',\n",
              "       '165lbs', '196lbs', '161lbs', '170lbs', '187lbs', '157lbs',\n",
              "       '185lbs', '130lbs', '174lbs', '203lbs', '207lbs', '134lbs',\n",
              "       '141lbs', '152lbs', '179lbs', '132lbs', '198lbs', '201lbs',\n",
              "       '209lbs', '214lbs', '143lbs', '192lbs', '137lbs', '194lbs',\n",
              "       '139lbs', '220lbs', '205lbs', '216lbs', '126lbs', '123lbs',\n",
              "       '128lbs', '223lbs', '212lbs', '121lbs', '115lbs', '218lbs',\n",
              "       '117lbs', '243lbs', '110lbs', '119lbs', '234lbs'], dtype=object)"
            ]
          },
          "metadata": {
            "tags": []
          },
          "execution_count": 50
        }
      ]
    },
    {
      "cell_type": "markdown",
      "metadata": {
        "hidden": true,
        "id": "DmzFB5vnbhBH",
        "colab_type": "text"
      },
      "source": [
        "4.4. Write a function (`get_weight`) which converts the **Weight** from a string in `lbs` to a number in `kg` with no decimals.    \n",
        "1 lbs = 0.453592 kg. For example `get_weight(\"115lbs\")` = `52`"
      ]
    },
    {
      "cell_type": "code",
      "metadata": {
        "hidden": true,
        "id": "Z9cHZA0YbhBI",
        "colab_type": "code",
        "colab": {}
      },
      "source": [
        "def get_weight(x):\n",
        "    return  round(float(x.split('lbs')[0]) * 0.453592, 0)"
      ],
      "execution_count": 0,
      "outputs": []
    },
    {
      "cell_type": "code",
      "metadata": {
        "hidden": true,
        "id": "xPaZxNh2bhBI",
        "colab_type": "code",
        "colab": {}
      },
      "source": [
        "# check if your answer is correct\n",
        "assert get_weight(\"115lbs\") == 52; assert get_weight(\"234lbs\") == 106"
      ],
      "execution_count": 0,
      "outputs": []
    },
    {
      "cell_type": "markdown",
      "metadata": {
        "hidden": true,
        "id": "ZqUBstqCbhBJ",
        "colab_type": "text"
      },
      "source": [
        "Apply the previous defined function on `Weight`"
      ]
    },
    {
      "cell_type": "code",
      "metadata": {
        "hidden": true,
        "id": "Q4jM1st0bhBJ",
        "colab_type": "code",
        "colab": {}
      },
      "source": [
        "df['Weight'] = df['Weight'].apply(get_weight)"
      ],
      "execution_count": 0,
      "outputs": []
    },
    {
      "cell_type": "code",
      "metadata": {
        "hidden": true,
        "id": "ih5pCLJ9bhBK",
        "colab_type": "code",
        "colab": {
          "base_uri": "https://localhost:8080/",
          "height": 119
        },
        "outputId": "e036bae1-8339-4e74-b370-60d7fa52880c"
      },
      "source": [
        "# check if your answer is correct\n",
        "assert df['Weight'].dtype == 'float64'; assert df['Weight'].isnull().sum() == 0\n",
        "\n",
        "df[\"Height\"].head()"
      ],
      "execution_count": 56,
      "outputs": [
        {
          "output_type": "execute_result",
          "data": {
            "text/plain": [
              "0    174.0\n",
              "1    189.0\n",
              "2    180.0\n",
              "4    156.0\n",
              "5    177.0\n",
              "Name: Height, dtype: float64"
            ]
          },
          "metadata": {
            "tags": []
          },
          "execution_count": 56
        }
      ]
    },
    {
      "cell_type": "markdown",
      "metadata": {
        "id": "dYOYorPmbhBL",
        "colab_type": "text"
      },
      "source": [
        "## Convert text columns to numeric"
      ]
    },
    {
      "cell_type": "markdown",
      "metadata": {
        "id": "nwtEsMhCbhBL",
        "colab_type": "text"
      },
      "source": [
        "5.1. Identify non-numeric text columns in a list called `text_cols`"
      ]
    },
    {
      "cell_type": "code",
      "metadata": {
        "id": "ZW0czXKGbhBL",
        "colab_type": "code",
        "colab": {
          "base_uri": "https://localhost:8080/",
          "height": 34
        },
        "outputId": "f152686f-f8ce-44ad-e4ec-346193af258c"
      },
      "source": [
        "text_cols = [f for f in df.columns if df[f].dtype == 'O']\n",
        "print(len(text_cols))"
      ],
      "execution_count": 57,
      "outputs": [
        {
          "output_type": "stream",
          "text": [
            "30\n"
          ],
          "name": "stdout"
        }
      ]
    },
    {
      "cell_type": "markdown",
      "metadata": {
        "id": "mr1_CAlVbhBN",
        "colab_type": "text"
      },
      "source": [
        "5.2. Build a list named `cols_to_remove` containing columns from `text_cols`, if a column has a number of unique values greater than **10** (`> 10`)"
      ]
    },
    {
      "cell_type": "code",
      "metadata": {
        "id": "DnchYPctbhBN",
        "colab_type": "code",
        "colab": {
          "base_uri": "https://localhost:8080/",
          "height": 34
        },
        "outputId": "75993fff-b4d1-4d86-d4a6-aaeb9ace6a89"
      },
      "source": [
        "cols_to_remove = []\n",
        "threshold_too_many_unics = 10\n",
        "for f in text_cols:\n",
        "    if df[f].nunique() > threshold_too_many_unics:\n",
        "        cols_to_remove.append(f)\n",
        "print(len(cols_to_remove))"
      ],
      "execution_count": 58,
      "outputs": [
        {
          "output_type": "stream",
          "text": [
            "27\n"
          ],
          "name": "stdout"
        }
      ]
    },
    {
      "cell_type": "markdown",
      "metadata": {
        "id": "HnM_SiUwbhBO",
        "colab_type": "text"
      },
      "source": [
        "remove `cols_to_remove` columns from `df` and print its shape"
      ]
    },
    {
      "cell_type": "code",
      "metadata": {
        "id": "-KAYe11YbhBO",
        "colab_type": "code",
        "colab": {
          "base_uri": "https://localhost:8080/",
          "height": 34
        },
        "outputId": "70069e83-c797-4bd7-9182-7c82d4f13fed"
      },
      "source": [
        "df.drop(cols_to_remove, axis = 1, inplace = True)\n",
        "df.shape"
      ],
      "execution_count": 59,
      "outputs": [
        {
          "output_type": "execute_result",
          "data": {
            "text/plain": [
              "(14743, 50)"
            ]
          },
          "metadata": {
            "tags": []
          },
          "execution_count": 59
        }
      ]
    },
    {
      "cell_type": "code",
      "metadata": {
        "id": "1SzYAYVbbhBQ",
        "colab_type": "code",
        "colab": {}
      },
      "source": [
        "# check if your answer is correct\n",
        "assert df.shape == (14743, 50)"
      ],
      "execution_count": 0,
      "outputs": []
    },
    {
      "cell_type": "markdown",
      "metadata": {
        "id": "-DDiVKWKbhBR",
        "colab_type": "text"
      },
      "source": [
        "5.3. Identify the remaining text columns in `text_cols` as `remaining_text_cols`, make sur it passes the test after"
      ]
    },
    {
      "cell_type": "code",
      "metadata": {
        "id": "NeL2s_8KbhBS",
        "colab_type": "code",
        "colab": {
          "base_uri": "https://localhost:8080/",
          "height": 34
        },
        "outputId": "df724efe-a396-40b8-f010-8427e2ca5b8a"
      },
      "source": [
        "remaining_text_cols = [f for f in df.columns if df[f].dtype == 'O']\n",
        "print(len(remaining_text_cols))"
      ],
      "execution_count": 61,
      "outputs": [
        {
          "output_type": "stream",
          "text": [
            "3\n"
          ],
          "name": "stdout"
        }
      ]
    },
    {
      "cell_type": "code",
      "metadata": {
        "id": "DyBGcNoubhBT",
        "colab_type": "code",
        "colab": {}
      },
      "source": [
        "# check if your answer is correct\n",
        "assert remaining_text_cols == ['Preferred Foot', 'Work Rate', 'Body Type']"
      ],
      "execution_count": 0,
      "outputs": []
    },
    {
      "cell_type": "markdown",
      "metadata": {
        "id": "s1D2MJ8CbhBT",
        "colab_type": "text"
      },
      "source": [
        "5.4. Loop through `remaining_text_cols` and convert them to numerical values"
      ]
    },
    {
      "cell_type": "code",
      "metadata": {
        "id": "WbXXuvVObhBU",
        "colab_type": "code",
        "colab": {}
      },
      "source": [
        "for f in remaining_text_cols:\n",
        "    df[f]= df[f].astype(\"category\").cat.codes"
      ],
      "execution_count": 0,
      "outputs": []
    },
    {
      "cell_type": "code",
      "metadata": {
        "id": "n8MKoUw4bhBV",
        "colab_type": "code",
        "colab": {
          "base_uri": "https://localhost:8080/",
          "height": 34
        },
        "outputId": "7f6b415c-03ca-45f4-e67c-4d228b962986"
      },
      "source": [
        "df.shape"
      ],
      "execution_count": 64,
      "outputs": [
        {
          "output_type": "execute_result",
          "data": {
            "text/plain": [
              "(14743, 50)"
            ]
          },
          "metadata": {
            "tags": []
          },
          "execution_count": 64
        }
      ]
    },
    {
      "cell_type": "code",
      "metadata": {
        "id": "dRzS_YOLbhBZ",
        "colab_type": "code",
        "colab": {}
      },
      "source": [
        "# df.to_csv('Assignment_2_data_cleaned.csv', index = False)"
      ],
      "execution_count": 0,
      "outputs": []
    },
    {
      "cell_type": "markdown",
      "metadata": {
        "id": "8-eb6zw2bhBa",
        "colab_type": "text"
      },
      "source": [
        "# Model building"
      ]
    },
    {
      "cell_type": "markdown",
      "metadata": {
        "id": "GuCaaRM5bhBa",
        "colab_type": "text"
      },
      "source": [
        "As stated before, you can do this part without completing the previous one"
      ]
    },
    {
      "cell_type": "markdown",
      "metadata": {
        "id": "5JPo7paGbhBa",
        "colab_type": "text"
      },
      "source": [
        "6.1. Load the cleaned dataset `Assignment_2_data_cleaned.csv` into `df_clean` and print its shape.    "
      ]
    },
    {
      "cell_type": "code",
      "metadata": {
        "id": "vsp08L8zbhBb",
        "colab_type": "code",
        "colab": {
          "base_uri": "https://localhost:8080/",
          "height": 34
        },
        "outputId": "c6f7d358-8706-4c6d-b251-91ad880ce62b"
      },
      "source": [
        "df_clean = pd.read_csv('Assignment_2_data_cleaned.csv')\n",
        "df_clean.shape"
      ],
      "execution_count": 65,
      "outputs": [
        {
          "output_type": "execute_result",
          "data": {
            "text/plain": [
              "(14743, 50)"
            ]
          },
          "metadata": {
            "tags": []
          },
          "execution_count": 65
        }
      ]
    },
    {
      "cell_type": "markdown",
      "metadata": {
        "id": "Q8o8pT21bhBc",
        "colab_type": "text"
      },
      "source": [
        "6.2. Load the target variable `Overall` into a dataframe and name it `y`. Then, load the features into a second dataframe and name it `X`. Plot a histogram of `y`, choose the number of bins as 100."
      ]
    },
    {
      "cell_type": "code",
      "metadata": {
        "id": "NpmroYxCbhBc",
        "colab_type": "code",
        "colab": {
          "base_uri": "https://localhost:8080/",
          "height": 286
        },
        "outputId": "a12bad99-fba7-4cb0-b693-def6f7e56d4a"
      },
      "source": [
        "y = df_clean.Overall\n",
        "X = df_clean.drop('Overall', axis=1, inplace=False)\n",
        "y.hist(bins=100)"
      ],
      "execution_count": 70,
      "outputs": [
        {
          "output_type": "execute_result",
          "data": {
            "text/plain": [
              "<matplotlib.axes._subplots.AxesSubplot at 0x7fbcc47264e0>"
            ]
          },
          "metadata": {
            "tags": []
          },
          "execution_count": 70
        },
        {
          "output_type": "display_data",
          "data": {
            "image/png": "[encoded data removed]",
            "text/plain": [
              "<Figure size 432x288 with 1 Axes>"
            ]
          },
          "metadata": {
            "tags": []
          }
        }
      ]
    },
    {
      "cell_type": "markdown",
      "metadata": {
        "id": "2-dYQ2m5bhBd",
        "colab_type": "text"
      },
      "source": [
        "7. Split the data set into a training set and a test set. Choose `test_size` = 0.3 and `random_state` = 123  \n",
        "Print train and test size      \n",
        "**Attention**: You are asked to use  [`sklearn.model_selection`](https://scikit-learn.org/stable/modules/generated/sklearn.model_selection.train_test_split.html)"
      ]
    },
    {
      "cell_type": "code",
      "metadata": {
        "id": "HO-5EtcQbhBd",
        "colab_type": "code",
        "colab": {
          "base_uri": "https://localhost:8080/",
          "height": 85
        },
        "outputId": "394c637c-cc1e-4a3f-dbb0-fd445110ca69"
      },
      "source": [
        "from sklearn.model_selection import train_test_split\n",
        "print(X.shape)\n",
        "print(y.shape)\n",
        "X_train, X_test, y_train, y_test = train_test_split(X, y, test_size=0.3, random_state=123)\n",
        "print(\"train set shape: \", X_train.shape, y_train.shape)\n",
        "print(\"test set shape: \", X_test.shape, y_test.shape)"
      ],
      "execution_count": 74,
      "outputs": [
        {
          "output_type": "stream",
          "text": [
            "(14743, 49)\n",
            "(14743,)\n",
            "train set shape:  (10320, 49) (10320,)\n",
            "test set shape:  (4423, 49) (4423,)\n"
          ],
          "name": "stdout"
        }
      ]
    },
    {
      "cell_type": "markdown",
      "metadata": {
        "id": "IoqI7d69bhBe",
        "colab_type": "text"
      },
      "source": [
        "8. Fit a linear model to the training set, and then report the training and testing errors obtained (the R2 statistic).   \n",
        "Calculate and print the following metrics: mse, rmse, mae for the test_set"
      ]
    },
    {
      "cell_type": "code",
      "metadata": {
        "id": "UEkT0h8nbhBe",
        "colab_type": "code",
        "colab": {
          "base_uri": "https://localhost:8080/",
          "height": 51
        },
        "outputId": "89587369-cc57-4640-e4a3-b88082b426d1"
      },
      "source": [
        "from sklearn.linear_model import LinearRegression\n",
        "reg = LinearRegression()\n",
        "reg.fit(X_train, y_train)\n",
        "train_score = reg.score(X_train, y_train)\n",
        "test_score=reg.score(X_test, y_test)\n",
        "print  ('train score =', train_score)\n",
        "print  ('test score = {}'.format(test_score))"
      ],
      "execution_count": 75,
      "outputs": [
        {
          "output_type": "stream",
          "text": [
            "train score = 0.9370091958866428\n",
            "test score = 0.9357188804626775\n"
          ],
          "name": "stdout"
        }
      ]
    },
    {
      "cell_type": "code",
      "metadata": {
        "id": "q9yMQphrbhBf",
        "colab_type": "code",
        "colab": {
          "base_uri": "https://localhost:8080/",
          "height": 51
        },
        "outputId": "8aa97d57-76f2-4796-9a8e-f828d6a8cd60"
      },
      "source": [
        "from sklearn.metrics import mean_squared_error\n",
        "from sklearn.metrics import mean_absolute_error\n",
        "from sklearn.metrics import r2_score\n",
        "import math\n",
        "y_pred = reg.predict(X_test)\n",
        "mse = mean_squared_error(y_test, y_pred)  \n",
        "mae = mean_absolute_error(y_test, y_pred)\n",
        "r2 = r2_score(y_test,y_pred)\n",
        "print ('mse = {}, rmse = {} \\nmae = {} r2 = {}'.format(mse,math.sqrt(mse), mae, r2))"
      ],
      "execution_count": 76,
      "outputs": [
        {
          "output_type": "stream",
          "text": [
            "mse = 3.0074136038004893, rmse = 1.7341896101062564 \n",
            "mae = 1.3561926131609652 r2 = 0.9357188804626775\n"
          ],
          "name": "stdout"
        }
      ]
    },
    {
      "cell_type": "markdown",
      "metadata": {
        "id": "xI47EsJvbhBg",
        "colab_type": "text"
      },
      "source": [
        "### Check residuals"
      ]
    },
    {
      "cell_type": "markdown",
      "metadata": {
        "id": "l5nCG5pmbhBg",
        "colab_type": "text"
      },
      "source": [
        "9.1. Plot a histogram of the residuals (difference between `y_test` and `y_pred`"
      ]
    },
    {
      "cell_type": "code",
      "metadata": {
        "id": "rs99oYEvbhBg",
        "colab_type": "code",
        "colab": {
          "base_uri": "https://localhost:8080/",
          "height": 225
        },
        "outputId": "c3c0ef42-2e7b-49c6-f3e3-ff3f0f9ebdde"
      },
      "source": [
        "plt.figure(figsize= (8, 3))\n",
        "plt.hist(y_test - y_pred)\n",
        "plt.xlabel('residuals')\n",
        "plt.ylabel('')\n",
        "plt.show()"
      ],
      "execution_count": 77,
      "outputs": [
        {
          "output_type": "display_data",
          "data": {
            "image/png": "[encoded data removed]",
            "text/plain": [
              "<Figure size 576x216 with 1 Axes>"
            ]
          },
          "metadata": {
            "tags": []
          }
        }
      ]
    },
    {
      "cell_type": "markdown",
      "metadata": {
        "id": "28HvVfKYbhBh",
        "colab_type": "text"
      },
      "source": [
        "9.2. Plot a scatter plot where `y_test` is in the **x** axis and  `y_pred` is in the **y** axis"
      ]
    },
    {
      "cell_type": "code",
      "metadata": {
        "id": "LCAaglrfbhBi",
        "colab_type": "code",
        "colab": {
          "base_uri": "https://localhost:8080/",
          "height": 227
        },
        "outputId": "bf440235-7a70-4a70-d600-5989bdb9de3a"
      },
      "source": [
        "plt.figure(figsize= (8, 3))\n",
        "plt.scatter(y_test, y_pred)\n",
        "plt.xlabel('y_test')\n",
        "plt.ylabel('y_pred')\n",
        "plt.show()"
      ],
      "execution_count": 78,
      "outputs": [
        {
          "output_type": "display_data",
          "data": {
            "image/png": "[encoded data removed]",
            "text/plain": [
              "<Figure size 576x216 with 1 Axes>"
            ]
          },
          "metadata": {
            "tags": []
          }
        }
      ]
    },
    {
      "cell_type": "markdown",
      "metadata": {
        "id": "yW5jB-KcbhBj",
        "colab_type": "text"
      },
      "source": [
        "10. Try to improve the performance of your model, by adding new features"
      ]
    },
    {
      "cell_type": "code",
      "metadata": {
        "id": "TpD_nnXdbhBk",
        "colab_type": "code",
        "colab": {}
      },
      "source": [
        "X['wage_ratio'] = X['Wage'] / X['Value']"
      ],
      "execution_count": 0,
      "outputs": []
    },
    {
      "cell_type": "code",
      "metadata": {
        "id": "qAowBtn1bhBm",
        "colab_type": "code",
        "colab": {}
      },
      "source": [
        "value_by_age = X.groupby('Age')['Value'].median().to_dict()\n",
        "X['value_by_age_median'] = X['Age'].map(value_by_age)"
      ],
      "execution_count": 0,
      "outputs": []
    },
    {
      "cell_type": "code",
      "metadata": {
        "id": "P_OCISNTbhBn",
        "colab_type": "code",
        "colab": {
          "base_uri": "https://localhost:8080/",
          "height": 51
        },
        "outputId": "32c475c2-3d39-482c-cc79-dfa3a49c7302"
      },
      "source": [
        "X_train, X_test, y_train, y_test = train_test_split(X, y, test_size=0.3, random_state=123)\n",
        "reg=LinearRegression()\n",
        "reg.fit(X_train, y_train)\n",
        "train_score = reg.score(X_train, y_train)\n",
        "test_score=reg.score(X_test, y_test)\n",
        "print  ('train score =', train_score)\n",
        "print  ('test score = {}'.format(test_score))"
      ],
      "execution_count": 81,
      "outputs": [
        {
          "output_type": "stream",
          "text": [
            "train score = 0.9563947619903304\n",
            "test score = 0.9551376523521644\n"
          ],
          "name": "stdout"
        }
      ]
    },
    {
      "cell_type": "code",
      "metadata": {
        "id": "ygAipXGNbhBo",
        "colab_type": "code",
        "colab": {
          "base_uri": "https://localhost:8080/",
          "height": 51
        },
        "outputId": "90dec277-a7b2-43e5-9e5d-7aa5d92ab11b"
      },
      "source": [
        "#print(reg.coef_)\n",
        "index_to_predict = 0\n",
        "print(\"Value to predict is \",y[index_to_predict])\n",
        "\n",
        "print(reg.predict(np.array(X.iloc[index_to_predict]).reshape(1,-1))[0])"
      ],
      "execution_count": 130,
      "outputs": [
        {
          "output_type": "stream",
          "text": [
            "Value to predict is  94\n",
            "101.23071348014632\n"
          ],
          "name": "stdout"
        }
      ]
    },
    {
      "cell_type": "code",
      "metadata": {
        "id": "w0dp0jkEqnkc",
        "colab_type": "code",
        "colab": {}
      },
      "source": [
        ""
      ],
      "execution_count": 0,
      "outputs": []
    }
  ]
}