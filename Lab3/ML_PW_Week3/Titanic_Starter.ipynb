{
 "cells": [
  {
   "cell_type": "markdown",
   "metadata": {},
   "source": [
    "# Predict survival on the Titanic\n",
    "In this Lab, we ask you to apply the tools of machine learning to predict which passengers survived the tragedy"
   ]
  },
  {
   "cell_type": "markdown",
   "metadata": {},
   "source": [
    "### Dataset\n",
    "The dataset contains 891 observations of 12 variables:\n",
    "* **PassengerId**: Unique ID for each passenger\n",
    "* **Survived**: Survival (0 = No; 1 = Yes)\n",
    "* **Pclass**: Passenger Class (1 = 1st; 2 = 2nd; 3 = 3rd)\n",
    "* **Name**: Name\n",
    "* **Sex**: Sex\n",
    "* **Age**: Age\n",
    "* **Sibsp**: Number of Siblings/Spouses Aboard\n",
    "* **Parch**: Number of Parents/Children Aboard\n",
    "* **Ticket**: Ticket Number\n",
    "* **Fare**: Passenger Fare\n",
    "* **Cabin**: Cabin\n",
    "* **Embarked** Port of Embarkation (C = Cherbourg; Q = Queenstown; S = Southampton)"
   ]
  },
  {
   "cell_type": "code",
   "execution_count": 1,
   "metadata": {
    "collapsed": true,
    "pycharm": {
     "is_executing": false
    }
   },
   "outputs": [],
   "source": [
    "# imports\n",
    "import warnings\n",
    "import numpy as np\n",
    "import pandas as pd\n",
    "warnings.filterwarnings('ignore')\n",
    "# your code here"
   ]
  },
  {
   "cell_type": "code",
   "execution_count": 2,
   "metadata": {
    "collapsed": true,
    "pycharm": {
     "is_executing": false
    }
   },
   "outputs": [
    {
     "data": {
      "text/plain": "   PassengerId  Survived  Pclass  \\\n0            1         0       3   \n1            2         1       1   \n2            3         1       3   \n3            4         1       1   \n4            5         0       3   \n\n                                                Name     Sex   Age  SibSp  \\\n0                            Braund, Mr. Owen Harris    male  22.0      1   \n1  Cumings, Mrs. John Bradley (Florence Briggs Th...  female  38.0      1   \n2                             Heikkinen, Miss. Laina  female  26.0      0   \n3       Futrelle, Mrs. Jacques Heath (Lily May Peel)  female  35.0      1   \n4                           Allen, Mr. William Henry    male  35.0      0   \n\n   Parch            Ticket     Fare Cabin Embarked  \n0      0         A/5 21171   7.2500   NaN        S  \n1      0          PC 17599  71.2833   C85        C  \n2      0  STON/O2. 3101282   7.9250   NaN        S  \n3      0            113803  53.1000  C123        S  \n4      0            373450   8.0500   NaN        S  ",
      "text/html": "<div>\n<style scoped>\n    .dataframe tbody tr th:only-of-type {\n        vertical-align: middle;\n    }\n\n    .dataframe tbody tr th {\n        vertical-align: top;\n    }\n\n    .dataframe thead th {\n        text-align: right;\n    }\n</style>\n<table border=\"1\" class=\"dataframe\">\n  <thead>\n    <tr style=\"text-align: right;\">\n      <th></th>\n      <th>PassengerId</th>\n      <th>Survived</th>\n      <th>Pclass</th>\n      <th>Name</th>\n      <th>Sex</th>\n      <th>Age</th>\n      <th>SibSp</th>\n      <th>Parch</th>\n      <th>Ticket</th>\n      <th>Fare</th>\n      <th>Cabin</th>\n      <th>Embarked</th>\n    </tr>\n  </thead>\n  <tbody>\n    <tr>\n      <th>0</th>\n      <td>1</td>\n      <td>0</td>\n      <td>3</td>\n      <td>Braund, Mr. Owen Harris</td>\n      <td>male</td>\n      <td>22.0</td>\n      <td>1</td>\n      <td>0</td>\n      <td>A/5 21171</td>\n      <td>7.2500</td>\n      <td>NaN</td>\n      <td>S</td>\n    </tr>\n    <tr>\n      <th>1</th>\n      <td>2</td>\n      <td>1</td>\n      <td>1</td>\n      <td>Cumings, Mrs. John Bradley (Florence Briggs Th...</td>\n      <td>female</td>\n      <td>38.0</td>\n      <td>1</td>\n      <td>0</td>\n      <td>PC 17599</td>\n      <td>71.2833</td>\n      <td>C85</td>\n      <td>C</td>\n    </tr>\n    <tr>\n      <th>2</th>\n      <td>3</td>\n      <td>1</td>\n      <td>3</td>\n      <td>Heikkinen, Miss. Laina</td>\n      <td>female</td>\n      <td>26.0</td>\n      <td>0</td>\n      <td>0</td>\n      <td>STON/O2. 3101282</td>\n      <td>7.9250</td>\n      <td>NaN</td>\n      <td>S</td>\n    </tr>\n    <tr>\n      <th>3</th>\n      <td>4</td>\n      <td>1</td>\n      <td>1</td>\n      <td>Futrelle, Mrs. Jacques Heath (Lily May Peel)</td>\n      <td>female</td>\n      <td>35.0</td>\n      <td>1</td>\n      <td>0</td>\n      <td>113803</td>\n      <td>53.1000</td>\n      <td>C123</td>\n      <td>S</td>\n    </tr>\n    <tr>\n      <th>4</th>\n      <td>5</td>\n      <td>0</td>\n      <td>3</td>\n      <td>Allen, Mr. William Henry</td>\n      <td>male</td>\n      <td>35.0</td>\n      <td>0</td>\n      <td>0</td>\n      <td>373450</td>\n      <td>8.0500</td>\n      <td>NaN</td>\n      <td>S</td>\n    </tr>\n  </tbody>\n</table>\n</div>"
     },
     "metadata": {},
     "output_type": "execute_result",
     "execution_count": 2
    }
   ],
   "source": [
    "titanic = pd.read_csv('titanic.csv')\n",
    "titanic.head()"
   ]
  },
  {
   "cell_type": "code",
   "execution_count": 3,
   "metadata": {
    "collapsed": true,
    "pycharm": {
     "is_executing": false
    }
   },
   "outputs": [
    {
     "name": "stdout",
     "text": [
      "<class 'pandas.core.frame.DataFrame'>\n",
      "RangeIndex: 891 entries, 0 to 890\n",
      "Data columns (total 12 columns):\n",
      "PassengerId    891 non-null int64\n",
      "Survived       891 non-null int64\n",
      "Pclass         891 non-null int64\n",
      "Name           891 non-null object\n",
      "Sex            891 non-null object\n",
      "Age            714 non-null float64\n",
      "SibSp          891 non-null int64\n",
      "Parch          891 non-null int64\n",
      "Ticket         891 non-null object\n",
      "Fare           891 non-null float64\n",
      "Cabin          204 non-null object\n",
      "Embarked       889 non-null object\n",
      "dtypes: float64(2), int64(5), object(5)\n",
      "memory usage: 83.7+ KB\n"
     ],
     "output_type": "stream"
    }
   ],
   "source": [
    "# print some info about the dataframe\n",
    "titanic.info()"
   ]
  },
  {
   "cell_type": "markdown",
   "metadata": {},
   "source": [
    "Looks like there are some Nan values, let's see how many for each column"
   ]
  },
  {
   "cell_type": "code",
   "execution_count": 4,
   "metadata": {
    "collapsed": true,
    "pycharm": {
     "is_executing": false
    }
   },
   "outputs": [
    {
     "data": {
      "text/plain": "PassengerId      0\nSurvived         0\nPclass           0\nName             0\nSex              0\nAge            177\nSibSp            0\nParch            0\nTicket           0\nFare             0\nCabin          687\nEmbarked         2\ndtype: int64"
     },
     "metadata": {},
     "output_type": "execute_result",
     "execution_count": 4
    }
   ],
   "source": [
    "titanic.isnull().sum()"
   ]
  },
  {
   "cell_type": "markdown",
   "metadata": {},
   "source": [
    "**Cabin** contains a lot of Nan values, we'll drop this column <br>\n",
    "We'll replace the Nan values in **Age** with the age's median, and the ones in **Embarked** with **'S'**, which is the most frequent one in this column"
   ]
  },
  {
   "cell_type": "code",
   "execution_count": 5,
   "metadata": {
    "collapsed": true,
    "pycharm": {
     "is_executing": false
    }
   },
   "outputs": [
    {
     "data": {
      "text/plain": "PassengerId    0\nSurvived       0\nPclass         0\nName           0\nSex            0\nAge            0\nSibSp          0\nParch          0\nTicket         0\nFare           0\nEmbarked       0\ndtype: int64"
     },
     "metadata": {},
     "output_type": "execute_result",
     "execution_count": 5
    }
   ],
   "source": [
    "# your code here to drop Cabin\n",
    "titanic.drop(\"Cabin\", axis = 1,inplace= True )\n",
    "# check the fillna documentation: http://pandas.pydata.org/pandas-docs/stable/generated/pandas.DataFrame.fillna.html\n",
    "titanic[\"Age\"].fillna(titanic[\"Age\"].median(), inplace=True)\n",
    "titanic[\"Embarked\"].fillna(\"S\",inplace=True)\n",
    "titanic.isnull().sum()"
   ]
  },
  {
   "cell_type": "markdown",
   "metadata": {},
   "source": [
    "## Visualization"
   ]
  },
  {
   "cell_type": "code",
   "execution_count": 6,
   "metadata": {
    "collapsed": true,
    "pycharm": {
     "is_executing": false
    }
   },
   "outputs": [
    {
     "name": "stdout",
     "text": [
      "survival rate = 0.3838383838383838\n"
     ],
     "output_type": "stream"
    },
    {
     "data": {
      "text/plain": "<matplotlib.axes._subplots.AxesSubplot at 0x11c6d3dd0>"
     },
     "metadata": {},
     "output_type": "execute_result",
     "execution_count": 6
    },
    {
     "data": {
      "text/plain": "<Figure size 432x288 with 1 Axes>",
      "image/png": "[encoded data removed]"
     },
     "metadata": {
      "needs_background": "light"
     },
     "output_type": "display_data"
    }
   ],
   "source": [
    "%matplotlib inline\n",
    "import matplotlib.pyplot as plt\n",
    "print ('survival rate =', titanic.Survived.mean())\n",
    "(titanic.groupby('Survived').size()/titanic.shape[0]).plot(kind=\"bar\",title=\"Label's Balance\")\n"
   ]
  },
  {
   "cell_type": "code",
   "execution_count": 7,
   "metadata": {
    "collapsed": true,
    "pycharm": {
     "is_executing": false
    }
   },
   "outputs": [],
   "source": [
    "# make a function to plot survival against passenger attribute\n",
    "def survival_rate(column,t):\n",
    "    df=pd.DataFrame()\n",
    "    df['total']=titanic.groupby(column).size()\n",
    "    df['survived'] = titanic.groupby(column).sum()['Survived']\n",
    "    df['percentage'] = round(df['survived']/df['total']*100,2)\n",
    "    print(df)\n",
    "\n",
    "    df['survived'].plot(kind=t)\n",
    "    df['total'].plot(kind=t,alpha=0.5,title=\"Survivors per \"+str(column))\n",
    "    plt.show()"
   ]
  },
  {
   "cell_type": "code",
   "execution_count": 8,
   "metadata": {
    "collapsed": true,
    "pycharm": {
     "is_executing": false
    }
   },
   "outputs": [
    {
     "name": "stdout",
     "text": [
      "        total  survived  percentage\n",
      "Sex                                \n",
      "female    314       233       74.20\n",
      "male      577       109       18.89\n"
     ],
     "output_type": "stream"
    },
    {
     "data": {
      "text/plain": "<Figure size 432x288 with 1 Axes>",
      "image/png": "[encoded data removed]"
     },
     "metadata": {
      "needs_background": "light"
     },
     "output_type": "display_data"
    }
   ],
   "source": [
    "# Draw survival per Sex\n",
    "survival_rate(\"Sex\",\"barh\")"
   ]
  },
  {
   "cell_type": "code",
   "execution_count": 9,
   "metadata": {
    "collapsed": true,
    "pycharm": {
     "is_executing": false
    }
   },
   "outputs": [
    {
     "name": "stdout",
     "text": [
      "        total  survived  percentage\n",
      "Pclass                             \n",
      "1         216       136       62.96\n",
      "2         184        87       47.28\n",
      "3         491       119       24.24\n"
     ],
     "output_type": "stream"
    },
    {
     "data": {
      "text/plain": "<Figure size 432x288 with 1 Axes>",
      "image/png": "[encoded data removed]"
     },
     "metadata": {
      "needs_background": "light"
     },
     "output_type": "display_data"
    }
   ],
   "source": [
    "# Draw survival per Class\n",
    "survival_rate(\"Pclass\",\"barh\")"
   ]
  },
  {
   "cell_type": "code",
   "execution_count": 10,
   "metadata": {
    "collapsed": true,
    "pycharm": {
     "is_executing": false
    }
   },
   "outputs": [
    {
     "name": "stdout",
     "text": [
      "          total  survived  percentage\n",
      "Embarked                             \n",
      "C           168        93       55.36\n",
      "Q            77        30       38.96\n",
      "S           646       219       33.90\n"
     ],
     "output_type": "stream"
    },
    {
     "data": {
      "text/plain": "<Figure size 432x288 with 1 Axes>",
      "image/png": "[encoded data removed]"
     },
     "metadata": {
      "needs_background": "light"
     },
     "output_type": "display_data"
    }
   ],
   "source": [
    "# Graph survived per port of embarkation\n",
    "survival_rate(\"Embarked\",\"bar\")"
   ]
  },
  {
   "cell_type": "code",
   "execution_count": 11,
   "metadata": {
    "collapsed": true,
    "pycharm": {
     "is_executing": false
    }
   },
   "outputs": [
    {
     "name": "stdout",
     "text": [
      "       total  survived  percentage\n",
      "Parch                             \n",
      "0        678       233       34.37\n",
      "1        118        65       55.08\n",
      "2         80        40       50.00\n",
      "3          5         3       60.00\n",
      "4          4         0        0.00\n",
      "5          5         1       20.00\n",
      "6          1         0        0.00\n"
     ],
     "output_type": "stream"
    },
    {
     "data": {
      "text/plain": "<Figure size 432x288 with 1 Axes>",
      "image/png": "[encoded data removed]"
     },
     "metadata": {
      "needs_background": "light"
     },
     "output_type": "display_data"
    }
   ],
   "source": [
    "# Draw survived per Number of Parents/Children Aboard (Parch)\n",
    "survival_rate(\"Parch\",\"bar\")"
   ]
  },
  {
   "cell_type": "code",
   "execution_count": 12,
   "metadata": {
    "collapsed": true,
    "pycharm": {
     "is_executing": false
    }
   },
   "outputs": [
    {
     "name": "stdout",
     "text": [
      "       total  survived  percentage\n",
      "SibSp                             \n",
      "0        608       210       34.54\n",
      "1        209       112       53.59\n",
      "2         28        13       46.43\n",
      "3         16         4       25.00\n",
      "4         18         3       16.67\n",
      "5          5         0        0.00\n",
      "8          7         0        0.00\n"
     ],
     "output_type": "stream"
    },
    {
     "data": {
      "text/plain": "<Figure size 432x288 with 1 Axes>",
      "image/png": "[encoded data removed]"
     },
     "metadata": {
      "needs_background": "light"
     },
     "output_type": "display_data"
    }
   ],
   "source": [
    "# Draw survived per Number of Siblings/Spouses Aboard (SibSp)\n",
    "survival_rate(\"SibSp\",\"bar\")"
   ]
  },
  {
   "cell_type": "markdown",
   "metadata": {},
   "source": [
    "## Model training"
   ]
  },
  {
   "cell_type": "markdown",
   "metadata": {},
   "source": [
    "Some of the columns don't have predictive power, so let's specify which ones are included for prediction"
   ]
  },
  {
   "cell_type": "code",
   "execution_count": 13,
   "metadata": {
    "collapsed": true,
    "pycharm": {
     "is_executing": false
    }
   },
   "outputs": [],
   "source": [
    "predictors = [\"Pclass\", \"Sex\", \"Age\", 'SibSp' ,'Parch', \"Fare\", \"Embarked\"]  "
   ]
  },
  {
   "cell_type": "markdown",
   "metadata": {},
   "source": [
    "We need now to convert text columns in **predictors** to numerical ones"
   ]
  },
  {
   "cell_type": "code",
   "execution_count": 14,
   "metadata": {
    "collapsed": true,
    "pycharm": {
     "is_executing": false
    }
   },
   "outputs": [
    {
     "data": {
      "text/plain": "   PassengerId  Survived  Pclass  \\\n0            1         0       3   \n1            2         1       1   \n2            3         1       3   \n3            4         1       1   \n4            5         0       3   \n\n                                                Name  Sex   Age  SibSp  Parch  \\\n0                            Braund, Mr. Owen Harris    1  22.0      1      0   \n1  Cumings, Mrs. John Bradley (Florence Briggs Th...    0  38.0      1      0   \n2                             Heikkinen, Miss. Laina    0  26.0      0      0   \n3       Futrelle, Mrs. Jacques Heath (Lily May Peel)    0  35.0      1      0   \n4                           Allen, Mr. William Henry    1  35.0      0      0   \n\n             Ticket     Fare  Embarked  \n0         A/5 21171   7.2500         2  \n1          PC 17599  71.2833         0  \n2  STON/O2. 3101282   7.9250         2  \n3            113803  53.1000         2  \n4            373450   8.0500         2  ",
      "text/html": "<div>\n<style scoped>\n    .dataframe tbody tr th:only-of-type {\n        vertical-align: middle;\n    }\n\n    .dataframe tbody tr th {\n        vertical-align: top;\n    }\n\n    .dataframe thead th {\n        text-align: right;\n    }\n</style>\n<table border=\"1\" class=\"dataframe\">\n  <thead>\n    <tr style=\"text-align: right;\">\n      <th></th>\n      <th>PassengerId</th>\n      <th>Survived</th>\n      <th>Pclass</th>\n      <th>Name</th>\n      <th>Sex</th>\n      <th>Age</th>\n      <th>SibSp</th>\n      <th>Parch</th>\n      <th>Ticket</th>\n      <th>Fare</th>\n      <th>Embarked</th>\n    </tr>\n  </thead>\n  <tbody>\n    <tr>\n      <th>0</th>\n      <td>1</td>\n      <td>0</td>\n      <td>3</td>\n      <td>Braund, Mr. Owen Harris</td>\n      <td>1</td>\n      <td>22.0</td>\n      <td>1</td>\n      <td>0</td>\n      <td>A/5 21171</td>\n      <td>7.2500</td>\n      <td>2</td>\n    </tr>\n    <tr>\n      <th>1</th>\n      <td>2</td>\n      <td>1</td>\n      <td>1</td>\n      <td>Cumings, Mrs. John Bradley (Florence Briggs Th...</td>\n      <td>0</td>\n      <td>38.0</td>\n      <td>1</td>\n      <td>0</td>\n      <td>PC 17599</td>\n      <td>71.2833</td>\n      <td>0</td>\n    </tr>\n    <tr>\n      <th>2</th>\n      <td>3</td>\n      <td>1</td>\n      <td>3</td>\n      <td>Heikkinen, Miss. Laina</td>\n      <td>0</td>\n      <td>26.0</td>\n      <td>0</td>\n      <td>0</td>\n      <td>STON/O2. 3101282</td>\n      <td>7.9250</td>\n      <td>2</td>\n    </tr>\n    <tr>\n      <th>3</th>\n      <td>4</td>\n      <td>1</td>\n      <td>1</td>\n      <td>Futrelle, Mrs. Jacques Heath (Lily May Peel)</td>\n      <td>0</td>\n      <td>35.0</td>\n      <td>1</td>\n      <td>0</td>\n      <td>113803</td>\n      <td>53.1000</td>\n      <td>2</td>\n    </tr>\n    <tr>\n      <th>4</th>\n      <td>5</td>\n      <td>0</td>\n      <td>3</td>\n      <td>Allen, Mr. William Henry</td>\n      <td>1</td>\n      <td>35.0</td>\n      <td>0</td>\n      <td>0</td>\n      <td>373450</td>\n      <td>8.0500</td>\n      <td>2</td>\n    </tr>\n  </tbody>\n</table>\n</div>"
     },
     "metadata": {},
     "output_type": "execute_result",
     "execution_count": 14
    }
   ],
   "source": [
    "for col in predictors: # Loop through all columns in predictors\n",
    "    if titanic[col].dtype == 'object':  # check if column's type is object (text)\n",
    "        titanic[col] = pd.Categorical(titanic[col]).codes  # convert text to numerical\n",
    "\n",
    "titanic.head()"
   ]
  },
  {
   "cell_type": "code",
   "execution_count": 15,
   "metadata": {
    "collapsed": true,
    "pycharm": {
     "is_executing": false
    }
   },
   "outputs": [
    {
     "name": "stdout",
     "text": [
      "train shape (623, 7) (623,)\n",
      "test shape (268, 7) (268,)\n"
     ],
     "output_type": "stream"
    }
   ],
   "source": [
    "# Split the data into a training set and a testing set. Set: test_size=0.3, random_state=1\n",
    "x = titanic[predictors]\n",
    "y = titanic[\"Survived\"]\n",
    "\n",
    "from sklearn.model_selection import train_test_split\n",
    "\n",
    "X_test: object\n",
    "X_train, X_test,y_train, y_test = train_test_split(x,y,test_size=0.3,random_state=1)\n",
    "\n",
    "print (\"train shape\", X_train.shape, y_train.shape)\n",
    "print (\"test shape\", X_test.shape, y_test.shape)"
   ]
  },
  {
   "cell_type": "code",
   "execution_count": 16,
   "metadata": {
    "collapsed": true,
    "pycharm": {
     "is_executing": false
    }
   },
   "outputs": [
    {
     "name": "stdout",
     "text": [
      "train accuracy = 0.8073836276083467\n",
      "test accuracy = 0.7723880597014925\n"
     ],
     "output_type": "stream"
    }
   ],
   "source": [
    "# import LogisticRegression from: http://scikit-learn.org/stable/modules/generated/sklearn.linear_model.LogisticRegression.html\n",
    "from sklearn.linear_model import LogisticRegression\n",
    "clf = LogisticRegression(random_state=1).fit(X_train,y_train)\n",
    "train_score = clf.score(X_train,y_train)\n",
    "test_score = clf.score(X_test,y_test)\n",
    "print ('train accuracy =', train_score)\n",
    "print ('test accuracy =', test_score)"
   ]
  },
  {
   "cell_type": "markdown",
   "metadata": {},
   "source": [
    "Let's print the model's parameters"
   ]
  },
  {
   "cell_type": "code",
   "execution_count": 17,
   "metadata": {
    "collapsed": true,
    "pycharm": {
     "is_executing": false
    }
   },
   "outputs": [
    {
     "name": "stdout",
     "text": [
      "     Feature  Coefficient Estimate\n",
      "0     Pclass             -1.158693\n",
      "1        Sex             -2.708761\n",
      "2        Age             -0.040634\n",
      "3      SibSp             -0.334012\n",
      "4      Parch              0.071939\n",
      "5       Fare             -0.000570\n",
      "6   Embarked             -0.223307\n",
      "7  Intercept              5.391546\n"
     ],
     "output_type": "stream"
    }
   ],
   "source": [
    "coeff = pd.DataFrame()\n",
    "coeff['Feature'] = X_train.columns\n",
    "coeff['Coefficient Estimate'] = pd.Series(clf.coef_[0])\n",
    "coeff.loc[len(coeff)]=['Intercept',clf.intercept_[0]]\n",
    "print (coeff)"
   ]
  },
  {
   "cell_type": "markdown",
   "metadata": {},
   "source": [
    "We now need to predict class labels for the test set. We will also generate the class probabilities"
   ]
  },
  {
   "cell_type": "code",
   "execution_count": 18,
   "metadata": {
    "collapsed": true,
    "pycharm": {
     "is_executing": false
    }
   },
   "outputs": [
    {
     "name": "stdout",
     "text": [
      "[1 0 1 1 1 0 0 1 1 1 0 1 0 0 1 0 0 0 0 1 0 0 1 0 1 0 1 1 0 1 1 0 0 1 0 1 0\n",
      " 0 1 0 1 1 1 0 1 0 0 0 0 0 0 1 0 0 0 1 0 0 0 1 0 0 0 0 0 1 0 0 1 0 0 0 0 0\n",
      " 1 0 1 0 0 1 0 0 0 0 1 0 0 0 1 1 0 0 0 1 0 1 0 1 0 0 1 0 0 1 1 0 0 0 0 0 0\n",
      " 0 0 0 0 0 0 0 1 1 1 0 0 0 1 1 1 1 0 0 0 0 1 1 0 1 1 0 0 1 1 0 1 1 0 1 0 0\n",
      " 1 0 1 0 0 1 0 0 0 0 1 0 0 0 1 0 0 1 1 0 0 0 1 1 1 0 1 0 0 0 1 0 1 1 0 0 1\n",
      " 0 0 1 0 1 0 0 1 1 1 1 0 1 0 0 0 1 0 0 0 1 1 0 0 0 1 0 0 0 0 0 0 1 1 0 0 0\n",
      " 0 0 0 0 1 0 1 0 0 0 0 0 0 1 1 1 1 0 0 0 0 0 0 0 1 1 0 1 0 0 0 1 1 1 0 1 0\n",
      " 1 1 0 1 1 0 0 1 0]\n"
     ],
     "output_type": "stream"
    }
   ],
   "source": [
    "# predict class labels for the test set\n",
    "y_pred = clf.predict(X_test)\n",
    "print (y_pred)"
   ]
  },
  {
   "cell_type": "code",
   "execution_count": 19,
   "metadata": {
    "collapsed": true,
    "pycharm": {
     "is_executing": false
    }
   },
   "outputs": [
    {
     "name": "stdout",
     "text": [
      "[[0.13931136 0.86068864]\n",
      " [0.91545701 0.08454299]\n",
      " [0.12666421 0.87333579]\n",
      " [0.36591846 0.63408154]\n",
      " [0.07784304 0.92215696]\n",
      " [0.89067953 0.10932047]\n",
      " [0.80772613 0.19227387]\n",
      " [0.1192278  0.8807722 ]\n",
      " [0.4986294  0.5013706 ]\n",
      " [0.44730682 0.55269318]\n",
      " [0.90553196 0.09446804]\n",
      " [0.39942798 0.60057202]\n",
      " [0.75883956 0.24116044]\n",
      " [0.7731844  0.2268156 ]\n",
      " [0.3658672  0.6341328 ]\n",
      " [0.51884408 0.48115592]\n",
      " [0.92555343 0.07444657]\n",
      " [0.92813018 0.07186982]\n",
      " [0.93745226 0.06254774]\n",
      " [0.23336025 0.76663975]\n",
      " [0.92721774 0.07278226]\n",
      " [0.89953161 0.10046839]\n",
      " [0.03807371 0.96192629]\n",
      " [0.70151645 0.29848355]\n",
      " [0.27209455 0.72790545]\n",
      " [0.91229354 0.08770646]\n",
      " [0.06263095 0.93736905]\n",
      " [0.28628341 0.71371659]\n",
      " [0.75835591 0.24164409]\n",
      " [0.05700656 0.94299344]\n",
      " [0.36148887 0.63851113]\n",
      " [0.51940621 0.48059379]\n",
      " [0.52697884 0.47302116]\n",
      " [0.47141331 0.52858669]\n",
      " [0.93503278 0.06496722]\n",
      " [0.48609828 0.51390172]\n",
      " [0.59876812 0.40123188]\n",
      " [0.91543127 0.08456873]\n",
      " [0.46440472 0.53559528]\n",
      " [0.88665975 0.11334025]\n",
      " [0.40921414 0.59078586]\n",
      " [0.37536593 0.62463407]\n",
      " [0.17017256 0.82982744]\n",
      " [0.68732003 0.31267997]\n",
      " [0.38994387 0.61005613]\n",
      " [0.93499758 0.06500242]\n",
      " [0.96230482 0.03769518]\n",
      " [0.84202261 0.15797739]\n",
      " [0.54739975 0.45260025]\n",
      " [0.67641528 0.32358472]\n",
      " [0.68588148 0.31411852]\n",
      " [0.14576081 0.85423919]\n",
      " [0.70250361 0.29749639]\n",
      " [0.82491771 0.17508229]\n",
      " [0.91861767 0.08138233]\n",
      " [0.46242404 0.53757596]\n",
      " [0.77998674 0.22001326]\n",
      " [0.80527978 0.19472022]\n",
      " [0.94357594 0.05642406]\n",
      " [0.34271173 0.65728827]\n",
      " [0.90350272 0.09649728]\n",
      " [0.87382042 0.12617958]\n",
      " [0.76239272 0.23760728]\n",
      " [0.68269638 0.31730362]\n",
      " [0.59481947 0.40518053]\n",
      " [0.29478292 0.70521708]\n",
      " [0.86726862 0.13273138]\n",
      " [0.86535403 0.13464597]\n",
      " [0.18945438 0.81054562]\n",
      " [0.89143825 0.10856175]\n",
      " [0.94769379 0.05230621]\n",
      " [0.95670745 0.04329255]\n",
      " [0.596337   0.403663  ]\n",
      " [0.91545701 0.08454299]\n",
      " [0.42423356 0.57576644]\n",
      " [0.76448443 0.23551557]\n",
      " [0.11916196 0.88083804]\n",
      " [0.89648573 0.10351427]\n",
      " [0.70048644 0.29951356]\n",
      " [0.04365582 0.95634418]\n",
      " [0.91121823 0.08878177]\n",
      " [0.99293509 0.00706491]\n",
      " [0.91546381 0.08453619]\n",
      " [0.93246398 0.06753602]\n",
      " [0.10605238 0.89394762]\n",
      " [0.91861696 0.08138304]\n",
      " [0.91546381 0.08453619]\n",
      " [0.87382016 0.12617984]\n",
      " [0.49623725 0.50376275]\n",
      " [0.40263037 0.59736963]\n",
      " [0.69991866 0.30008134]\n",
      " [0.87391363 0.12608637]\n",
      " [0.88461375 0.11538625]\n",
      " [0.3658672  0.6341328 ]\n",
      " [0.91552776 0.08447224]\n",
      " [0.42818745 0.57181255]\n",
      " [0.97445536 0.02554464]\n",
      " [0.31570207 0.68429793]\n",
      " [0.88251412 0.11748588]\n",
      " [0.91545701 0.08454299]\n",
      " [0.410049   0.589951  ]\n",
      " [0.61458273 0.38541727]\n",
      " [0.90041204 0.09958796]\n",
      " [0.22308932 0.77691068]\n",
      " [0.02604361 0.97395639]\n",
      " [0.89841632 0.10158368]\n",
      " [0.91855585 0.08144415]\n",
      " [0.91854839 0.08145161]\n",
      " [0.94327157 0.05672843]\n",
      " [0.95033326 0.04966674]\n",
      " [0.69708247 0.30291753]\n",
      " [0.8444035  0.1555965 ]\n",
      " [0.88483767 0.11516233]\n",
      " [0.93048761 0.06951239]\n",
      " [0.73559738 0.26440262]\n",
      " [0.9299072  0.0700928 ]\n",
      " [0.83279773 0.16720227]\n",
      " [0.6331686  0.3668314 ]\n",
      " [0.30663776 0.69336224]\n",
      " [0.44911515 0.55088485]\n",
      " [0.24214452 0.75785548]\n",
      " [0.79297846 0.20702154]\n",
      " [0.91545701 0.08454299]\n",
      " [0.6940632  0.3059368 ]\n",
      " [0.07066799 0.92933201]\n",
      " [0.04755757 0.95244243]\n",
      " [0.18506811 0.81493189]\n",
      " [0.36112818 0.63887182]\n",
      " [0.99293509 0.00706491]\n",
      " [0.89648573 0.10351427]\n",
      " [0.90199822 0.09800178]\n",
      " [0.95401328 0.04598672]\n",
      " [0.21790298 0.78209702]\n",
      " [0.40534805 0.59465195]\n",
      " [0.70747289 0.29252711]\n",
      " [0.1427606  0.8572394 ]\n",
      " [0.04096158 0.95903842]\n",
      " [0.9444573  0.0555427 ]\n",
      " [0.90962264 0.09037736]\n",
      " [0.37052503 0.62947497]\n",
      " [0.0762899  0.9237101 ]\n",
      " [0.94471617 0.05528383]\n",
      " [0.04932137 0.95067863]\n",
      " [0.41909011 0.58090989]\n",
      " [0.91545168 0.08454832]\n",
      " [0.40292784 0.59707216]\n",
      " [0.79361535 0.20638465]\n",
      " [0.91546381 0.08453619]\n",
      " [0.38923615 0.61076385]\n",
      " [0.89457593 0.10542407]\n",
      " [0.1896142  0.8103858 ]\n",
      " [0.96198351 0.03801649]\n",
      " [0.91517925 0.08482075]\n",
      " [0.31135496 0.68864504]\n",
      " [0.91757679 0.08242321]\n",
      " [0.92723457 0.07276543]\n",
      " [0.89454121 0.10545879]\n",
      " [0.95030332 0.04969668]\n",
      " [0.16312905 0.83687095]\n",
      " [0.73559738 0.26440262]\n",
      " [0.87363735 0.12636265]\n",
      " [0.91552776 0.08447224]\n",
      " [0.35179094 0.64820906]\n",
      " [0.5201177  0.4798823 ]\n",
      " [0.95117034 0.04882966]\n",
      " [0.27613711 0.72386289]\n",
      " [0.26098566 0.73901434]\n",
      " [0.91757679 0.08242321]\n",
      " [0.86928394 0.13071606]\n",
      " [0.67991503 0.32008497]\n",
      " [0.07456513 0.92543487]\n",
      " [0.45571943 0.54428057]\n",
      " [0.07461252 0.92538748]\n",
      " [0.90359918 0.09640082]\n",
      " [0.14425531 0.85574469]\n",
      " [0.51506453 0.48493547]\n",
      " [0.89648484 0.10351516]\n",
      " [0.86695791 0.13304209]\n",
      " [0.24876046 0.75123954]\n",
      " [0.94457123 0.05542877]\n",
      " [0.04827435 0.95172565]\n",
      " [0.22443574 0.77556426]\n",
      " [0.8381402  0.1618598 ]\n",
      " [0.93127958 0.06872042]\n",
      " [0.0767483  0.9232517 ]\n",
      " [0.69424474 0.30575526]\n",
      " [0.91546381 0.08453619]\n",
      " [0.05584451 0.94415549]\n",
      " [0.89648573 0.10351427]\n",
      " [0.08097665 0.91902335]\n",
      " [0.52218055 0.47781945]\n",
      " [0.68380061 0.31619939]\n",
      " [0.3658672  0.6341328 ]\n",
      " [0.21385596 0.78614404]\n",
      " [0.21772102 0.78227898]\n",
      " [0.10006188 0.89993812]\n",
      " [0.77188209 0.22811791]\n",
      " [0.13697135 0.86302865]\n",
      " [0.90378723 0.09621277]\n",
      " [0.80045622 0.19954378]\n",
      " [0.87377414 0.12622586]\n",
      " [0.28185832 0.71814168]\n",
      " [0.87382016 0.12617984]\n",
      " [0.64055222 0.35944778]\n",
      " [0.67216985 0.32783015]\n",
      " [0.16179713 0.83820287]\n",
      " [0.20825983 0.79174017]\n",
      " [0.75109821 0.24890179]\n",
      " [0.51884408 0.48115592]\n",
      " [0.96819807 0.03180193]\n",
      " [0.05269652 0.94730348]\n",
      " [0.93165801 0.06834199]\n",
      " [0.87604358 0.12395642]\n",
      " [0.77746926 0.22253074]\n",
      " [0.84945579 0.15054421]\n",
      " [0.93503222 0.06496778]\n",
      " [0.89643855 0.10356145]\n",
      " [0.04124997 0.95875003]\n",
      " [0.19534006 0.80465994]\n",
      " [0.77085863 0.22914137]\n",
      " [0.51933506 0.48066494]\n",
      " [0.87382016 0.12617984]\n",
      " [0.74132782 0.25867218]\n",
      " [0.72964241 0.27035759]\n",
      " [0.92394548 0.07605452]\n",
      " [0.70094157 0.29905843]\n",
      " [0.04415577 0.95584423]\n",
      " [0.51470893 0.48529107]\n",
      " [0.23425437 0.76574563]\n",
      " [0.7009731  0.2990269 ]\n",
      " [0.60811078 0.39188922]\n",
      " [0.83497747 0.16502253]\n",
      " [0.6777118  0.3222882 ]\n",
      " [0.81308544 0.18691456]\n",
      " [0.94205142 0.05794858]\n",
      " [0.39282345 0.60717655]\n",
      " [0.46814385 0.53185615]\n",
      " [0.3331735  0.6668265 ]\n",
      " [0.28618634 0.71381366]\n",
      " [0.92215562 0.07784438]\n",
      " [0.94286815 0.05713185]\n",
      " [0.83457968 0.16542032]\n",
      " [0.88251182 0.11748818]\n",
      " [0.92906439 0.07093561]\n",
      " [0.95096981 0.04903019]\n",
      " [0.92442749 0.07557251]\n",
      " [0.19105467 0.80894533]\n",
      " [0.22468391 0.77531609]\n",
      " [0.65007587 0.34992413]\n",
      " [0.09251532 0.90748468]\n",
      " [0.94833693 0.05166307]\n",
      " [0.90019624 0.09980376]\n",
      " [0.68228905 0.31771095]\n",
      " [0.40806752 0.59193248]\n",
      " [0.1956172  0.8043828 ]\n",
      " [0.27749956 0.72250044]\n",
      " [0.76966927 0.23033073]\n",
      " [0.27027967 0.72972033]\n",
      " [0.83450645 0.16549355]\n",
      " [0.44297799 0.55702201]\n",
      " [0.10338883 0.89661117]\n",
      " [0.92394548 0.07605452]\n",
      " [0.3658672  0.6341328 ]\n",
      " [0.14332543 0.85667457]\n",
      " [0.76730526 0.23269474]\n",
      " [0.80676685 0.19323315]\n",
      " [0.46946154 0.53053846]\n",
      " [0.76143734 0.23856266]]\n"
     ],
     "output_type": "stream"
    }
   ],
   "source": [
    "# generate class probabilities : http://scikit-learn.org/stable/modules/generated/sklearn.linear_model.LogisticRegression.html\n",
    "y_probs = clf.predict_proba(X_test)\n",
    "#y_probs = [[not_survive_prob,survive_prob]]\n",
    "print (y_probs)"
   ]
  },
  {
   "cell_type": "markdown",
   "metadata": {},
   "source": [
    "As you can see, the classifier outputs two probabilities for each row. It's predicting a 1 (Survived) any time the probability in the second column is greater than 0.5. Let's visualize it all together."
   ]
  },
  {
   "cell_type": "code",
   "execution_count": 20,
   "metadata": {
    "collapsed": true,
    "pycharm": {
     "is_executing": false
    }
   },
   "outputs": [
    {
     "data": {
      "text/plain": "     Survived_original  Survived_predicted  Survived_proba  Comparison\n862                  1                   1        0.860689        True\n223                  0                   0        0.084543        True\n84                   1                   1        0.873336        True\n680                  0                   1        0.634082       False\n535                  1                   1        0.922157        True",
      "text/html": "<div>\n<style scoped>\n    .dataframe tbody tr th:only-of-type {\n        vertical-align: middle;\n    }\n\n    .dataframe tbody tr th {\n        vertical-align: top;\n    }\n\n    .dataframe thead th {\n        text-align: right;\n    }\n</style>\n<table border=\"1\" class=\"dataframe\">\n  <thead>\n    <tr style=\"text-align: right;\">\n      <th></th>\n      <th>Survived_original</th>\n      <th>Survived_predicted</th>\n      <th>Survived_proba</th>\n      <th>Comparison</th>\n    </tr>\n  </thead>\n  <tbody>\n    <tr>\n      <th>862</th>\n      <td>1</td>\n      <td>1</td>\n      <td>0.860689</td>\n      <td>True</td>\n    </tr>\n    <tr>\n      <th>223</th>\n      <td>0</td>\n      <td>0</td>\n      <td>0.084543</td>\n      <td>True</td>\n    </tr>\n    <tr>\n      <th>84</th>\n      <td>1</td>\n      <td>1</td>\n      <td>0.873336</td>\n      <td>True</td>\n    </tr>\n    <tr>\n      <th>680</th>\n      <td>0</td>\n      <td>1</td>\n      <td>0.634082</td>\n      <td>False</td>\n    </tr>\n    <tr>\n      <th>535</th>\n      <td>1</td>\n      <td>1</td>\n      <td>0.922157</td>\n      <td>True</td>\n    </tr>\n  </tbody>\n</table>\n</div>"
     },
     "metadata": {},
     "output_type": "execute_result",
     "execution_count": 20
    }
   ],
   "source": [
    "pred = pd.DataFrame({        \n",
    "        \"Survived_original\": y_test,\n",
    "        \"Survived_predicted\": y_pred,\n",
    "        \"Survived_proba\": np.transpose(y_probs)[1]      \n",
    "        })\n",
    "pred[\"Comparison\"]= pred.Survived_original ==pred.Survived_predicted\n",
    "pred.head()"
   ]
  },
  {
   "cell_type": "markdown",
   "metadata": {},
   "source": [
    "## Confusion matrix"
   ]
  },
  {
   "cell_type": "code",
   "execution_count": 21,
   "metadata": {
    "collapsed": true,
    "pycharm": {
     "is_executing": false
    }
   },
   "outputs": [
    {
     "name": "stdout",
     "text": [
      "[[129  24]\n",
      " [ 37  78]]\n",
      "              precision    recall  f1-score   support\n",
      "\n",
      "           0       0.78      0.84      0.81       153\n",
      "           1       0.76      0.68      0.72       115\n",
      "\n",
      "    accuracy                           0.77       268\n",
      "   macro avg       0.77      0.76      0.76       268\n",
      "weighted avg       0.77      0.77      0.77       268\n",
      "\n"
     ],
     "output_type": "stream"
    }
   ],
   "source": [
    "from sklearn import metrics\n",
    "print (metrics.confusion_matrix(y_test, y_pred))\n",
    "print (metrics.classification_report(y_test, y_pred))"
   ]
  },
  {
   "cell_type": "markdown",
   "metadata": {},
   "source": [
    "As you can see, we can have the classification report for each class"
   ]
  },
  {
   "cell_type": "markdown",
   "metadata": {},
   "source": [
    "## K-Fold Cross Validation"
   ]
  },
  {
   "cell_type": "code",
   "execution_count": 22,
   "metadata": {
    "collapsed": true,
    "pycharm": {
     "is_executing": false
    }
   },
   "outputs": [
    {
     "name": "stdout",
     "text": [
      "[0.7877095  0.78651685 0.78089888 0.76966292 0.82022472]\n",
      "0.7890025735986442\n"
     ],
     "output_type": "stream"
    }
   ],
   "source": [
    "# import cross_validation from: http://scikit-learn.org/stable/modules/generated/sklearn.model_selection.cross_val_score.html\n",
    "from sklearn.model_selection import cross_val_score\n",
    "clf = LogisticRegression(random_state=1)\n",
    "scores = cross_val_score(clf, titanic[predictors], titanic[\"Survived\"], scoring='accuracy', cv=5)\n",
    "## see model \n",
    "print(scores)\n",
    "# Take the mean of the scores (because we have one for each fold)\n",
    "print(scores.mean())"
   ]
  },
  {
   "cell_type": "markdown",
   "metadata": {
    "collapsed": true
   },
   "source": [
    "When you are improving a model, you want to make sur that you are really doing it and not just being lucky. This is why it's good to work with cross validation instead of one train/test split."
   ]
  },
  {
   "cell_type": "code",
   "execution_count": 23,
   "metadata": {
    "collapsed": true,
    "pycharm": {
     "is_executing": false
    }
   },
   "outputs": [
    {
     "data": {
      "text/plain": "   Pclass  Sex  Age  SibSp  Parch  Fare  Embarked\n0       1    1   21      1      1   100         2",
      "text/html": "<div>\n<style scoped>\n    .dataframe tbody tr th:only-of-type {\n        vertical-align: middle;\n    }\n\n    .dataframe tbody tr th {\n        vertical-align: top;\n    }\n\n    .dataframe thead th {\n        text-align: right;\n    }\n</style>\n<table border=\"1\" class=\"dataframe\">\n  <thead>\n    <tr style=\"text-align: right;\">\n      <th></th>\n      <th>Pclass</th>\n      <th>Sex</th>\n      <th>Age</th>\n      <th>SibSp</th>\n      <th>Parch</th>\n      <th>Fare</th>\n      <th>Embarked</th>\n    </tr>\n  </thead>\n  <tbody>\n    <tr>\n      <th>0</th>\n      <td>1</td>\n      <td>1</td>\n      <td>21</td>\n      <td>1</td>\n      <td>1</td>\n      <td>100</td>\n      <td>2</td>\n    </tr>\n  </tbody>\n</table>\n</div>"
     },
     "metadata": {},
     "output_type": "execute_result",
     "execution_count": 23
    }
   ],
   "source": [
    "predictors = [\"Pclass\",\"Sex\",\"Age\",\"SibSp\",\"Parch\",\"Fare\",\"Embarked\"]\n",
    "noha = [1,1,21,1,1,100,2]\n",
    "df = pd.DataFrame(np.array(noha).reshape(1,-1),columns=predictors)\n",
    "df.head()"
   ]
  },
  {
   "cell_type": "code",
   "execution_count": 24,
   "outputs": [
    {
     "name": "stdout",
     "text": [
      "[0]\n",
      "[[0.5237118 0.4762882]]\n"
     ],
     "output_type": "stream"
    }
   ],
   "source": [
    "clf = LogisticRegression().fit(X_train,y_train)\n",
    "print(clf.predict(df))\n",
    "print(clf.predict_proba(df))"
   ],
   "metadata": {
    "collapsed": false,
    "pycharm": {
     "name": "#%%\n",
     "is_executing": false
    }
   }
  },
  {
   "cell_type": "code",
   "execution_count": 26,
   "outputs": [
    {
     "name": "stdout",
     "text": [
      "train accuracy = 0.8009630818619583\n",
      "test accuracy = 0.753731343283582\n",
      "[0]\n",
      "[[0.82601547 0.17398453]]\n"
     ],
     "output_type": "stream"
    }
   ],
   "source": [
    "from sklearn import svm\n",
    "\n",
    "# kernel -> how is your decision boundary\n",
    "\n",
    "clf2 = svm.SVC(C=10,kernel='linear',probability=True).fit(X_train,y_train)\n",
    "\n",
    "print ('train accuracy =', clf2.score(X_train,y_train))\n",
    "print ('test accuracy =', clf2.score(X_test,y_test))\n",
    "\n",
    "print(clf2.predict(df))\n",
    "print(clf2.predict_proba(df))"
   ],
   "metadata": {
    "collapsed": false,
    "pycharm": {
     "name": "#%%\n",
     "is_executing": false
    }
   }
  }
 ],
 "metadata": {
  "anaconda-cloud": {},
  "kernelspec": {
   "display_name": "Python 3",
   "language": "python",
   "name": "python3"
  },
  "language_info": {
   "codemirror_mode": {
    "name": "ipython",
    "version": 3
   },
   "file_extension": ".py",
   "mimetype": "text/x-python",
   "name": "python",
   "nbconvert_exporter": "python",
   "pygments_lexer": "ipython3",
   "version": "3.6.5"
  },
  "pycharm": {
   "stem_cell": {
    "cell_type": "raw",
    "source": [],
    "metadata": {
     "collapsed": false
    }
   }
  }
 },
 "nbformat": 4,
 "nbformat_minor": 1
}