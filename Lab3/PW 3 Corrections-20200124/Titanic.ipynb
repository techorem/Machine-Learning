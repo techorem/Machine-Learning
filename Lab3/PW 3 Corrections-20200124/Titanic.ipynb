{
 "cells": [
  {
   "cell_type": "markdown",
   "metadata": {},
   "source": [
    "# Predict survival on the Titanic\n",
    "In this Lab, we ask you to apply the tools of machine learning to predict which passengers survived the tragedy"
   ]
  },
  {
   "cell_type": "markdown",
   "metadata": {},
   "source": [
    "### Dataset\n",
    "The dataset contains 891 observations of 12 variables:\n",
    "* **PassengerId**: Unique ID for each passenger\n",
    "* **Survived**: Survival (0 = No; 1 = Yes)\n",
    "* **Pclass**: Passenger Class (1 = 1st; 2 = 2nd; 3 = 3rd)\n",
    "* **Name**: Name\n",
    "* **Sex**: Sex\n",
    "* **Age**: Age\n",
    "* **Sibsp**: Number of Siblings/Spouses Aboard\n",
    "* **Parch**: Number of Parents/Children Aboard\n",
    "* **Ticket**: Ticket Number\n",
    "* **Fare**: Passenger Fare\n",
    "* **Cabin**: Cabin\n",
    "* **Embarked** Port of Embarkation (C = Cherbourg; Q = Queenstown; S = Southampton)"
   ]
  },
  {
   "cell_type": "code",
   "execution_count": 2,
   "metadata": {
    "collapsed": true
   },
   "outputs": [],
   "source": [
    "# imports\n",
    "import warnings\n",
    "warnings.filterwarnings('ignore')\n",
    "import pandas as pd\n",
    "import numpy as np"
   ]
  },
  {
   "cell_type": "code",
   "execution_count": 3,
   "metadata": {},
   "outputs": [
    {
     "data": {
      "text/html": [
       "<div>\n",
       "<style>\n",
       "    .dataframe thead tr:only-child th {\n",
       "        text-align: right;\n",
       "    }\n",
       "\n",
       "    .dataframe thead th {\n",
       "        text-align: left;\n",
       "    }\n",
       "\n",
       "    .dataframe tbody tr th {\n",
       "        vertical-align: top;\n",
       "    }\n",
       "</style>\n",
       "<table border=\"1\" class=\"dataframe\">\n",
       "  <thead>\n",
       "    <tr style=\"text-align: right;\">\n",
       "      <th></th>\n",
       "      <th>PassengerId</th>\n",
       "      <th>Survived</th>\n",
       "      <th>Pclass</th>\n",
       "      <th>Name</th>\n",
       "      <th>Sex</th>\n",
       "      <th>Age</th>\n",
       "      <th>SibSp</th>\n",
       "      <th>Parch</th>\n",
       "      <th>Ticket</th>\n",
       "      <th>Fare</th>\n",
       "      <th>Cabin</th>\n",
       "      <th>Embarked</th>\n",
       "    </tr>\n",
       "  </thead>\n",
       "  <tbody>\n",
       "    <tr>\n",
       "      <th>0</th>\n",
       "      <td>1</td>\n",
       "      <td>0</td>\n",
       "      <td>3</td>\n",
       "      <td>Braund, Mr. Owen Harris</td>\n",
       "      <td>male</td>\n",
       "      <td>22.0</td>\n",
       "      <td>1</td>\n",
       "      <td>0</td>\n",
       "      <td>A/5 21171</td>\n",
       "      <td>7.2500</td>\n",
       "      <td>NaN</td>\n",
       "      <td>S</td>\n",
       "    </tr>\n",
       "    <tr>\n",
       "      <th>1</th>\n",
       "      <td>2</td>\n",
       "      <td>1</td>\n",
       "      <td>1</td>\n",
       "      <td>Cumings, Mrs. John Bradley (Florence Briggs Th...</td>\n",
       "      <td>female</td>\n",
       "      <td>38.0</td>\n",
       "      <td>1</td>\n",
       "      <td>0</td>\n",
       "      <td>PC 17599</td>\n",
       "      <td>71.2833</td>\n",
       "      <td>C85</td>\n",
       "      <td>C</td>\n",
       "    </tr>\n",
       "    <tr>\n",
       "      <th>2</th>\n",
       "      <td>3</td>\n",
       "      <td>1</td>\n",
       "      <td>3</td>\n",
       "      <td>Heikkinen, Miss. Laina</td>\n",
       "      <td>female</td>\n",
       "      <td>26.0</td>\n",
       "      <td>0</td>\n",
       "      <td>0</td>\n",
       "      <td>STON/O2. 3101282</td>\n",
       "      <td>7.9250</td>\n",
       "      <td>NaN</td>\n",
       "      <td>S</td>\n",
       "    </tr>\n",
       "    <tr>\n",
       "      <th>3</th>\n",
       "      <td>4</td>\n",
       "      <td>1</td>\n",
       "      <td>1</td>\n",
       "      <td>Futrelle, Mrs. Jacques Heath (Lily May Peel)</td>\n",
       "      <td>female</td>\n",
       "      <td>35.0</td>\n",
       "      <td>1</td>\n",
       "      <td>0</td>\n",
       "      <td>113803</td>\n",
       "      <td>53.1000</td>\n",
       "      <td>C123</td>\n",
       "      <td>S</td>\n",
       "    </tr>\n",
       "    <tr>\n",
       "      <th>4</th>\n",
       "      <td>5</td>\n",
       "      <td>0</td>\n",
       "      <td>3</td>\n",
       "      <td>Allen, Mr. William Henry</td>\n",
       "      <td>male</td>\n",
       "      <td>35.0</td>\n",
       "      <td>0</td>\n",
       "      <td>0</td>\n",
       "      <td>373450</td>\n",
       "      <td>8.0500</td>\n",
       "      <td>NaN</td>\n",
       "      <td>S</td>\n",
       "    </tr>\n",
       "  </tbody>\n",
       "</table>\n",
       "</div>"
      ],
      "text/plain": [
       "   PassengerId  Survived  Pclass  \\\n",
       "0            1         0       3   \n",
       "1            2         1       1   \n",
       "2            3         1       3   \n",
       "3            4         1       1   \n",
       "4            5         0       3   \n",
       "\n",
       "                                                Name     Sex   Age  SibSp  \\\n",
       "0                            Braund, Mr. Owen Harris    male  22.0      1   \n",
       "1  Cumings, Mrs. John Bradley (Florence Briggs Th...  female  38.0      1   \n",
       "2                             Heikkinen, Miss. Laina  female  26.0      0   \n",
       "3       Futrelle, Mrs. Jacques Heath (Lily May Peel)  female  35.0      1   \n",
       "4                           Allen, Mr. William Henry    male  35.0      0   \n",
       "\n",
       "   Parch            Ticket     Fare Cabin Embarked  \n",
       "0      0         A/5 21171   7.2500   NaN        S  \n",
       "1      0          PC 17599  71.2833   C85        C  \n",
       "2      0  STON/O2. 3101282   7.9250   NaN        S  \n",
       "3      0            113803  53.1000  C123        S  \n",
       "4      0            373450   8.0500   NaN        S  "
      ]
     },
     "execution_count": 3,
     "metadata": {},
     "output_type": "execute_result"
    }
   ],
   "source": [
    "titanic = pd.read_csv(\"titanic.csv\")\n",
    "titanic.head()"
   ]
  },
  {
   "cell_type": "code",
   "execution_count": 4,
   "metadata": {},
   "outputs": [
    {
     "name": "stdout",
     "output_type": "stream",
     "text": [
      "<class 'pandas.core.frame.DataFrame'>\n",
      "RangeIndex: 891 entries, 0 to 890\n",
      "Data columns (total 12 columns):\n",
      "PassengerId    891 non-null int64\n",
      "Survived       891 non-null int64\n",
      "Pclass         891 non-null int64\n",
      "Name           891 non-null object\n",
      "Sex            891 non-null object\n",
      "Age            714 non-null float64\n",
      "SibSp          891 non-null int64\n",
      "Parch          891 non-null int64\n",
      "Ticket         891 non-null object\n",
      "Fare           891 non-null float64\n",
      "Cabin          204 non-null object\n",
      "Embarked       889 non-null object\n",
      "dtypes: float64(2), int64(5), object(5)\n",
      "memory usage: 83.6+ KB\n"
     ]
    }
   ],
   "source": [
    "# print some info about the dataframe\n",
    "titanic.info()"
   ]
  },
  {
   "cell_type": "markdown",
   "metadata": {},
   "source": [
    "Looks like there are some Nan values, let's see how many for each column"
   ]
  },
  {
   "cell_type": "code",
   "execution_count": 5,
   "metadata": {},
   "outputs": [
    {
     "data": {
      "text/plain": [
       "PassengerId      0\n",
       "Survived         0\n",
       "Pclass           0\n",
       "Name             0\n",
       "Sex              0\n",
       "Age            177\n",
       "SibSp            0\n",
       "Parch            0\n",
       "Ticket           0\n",
       "Fare             0\n",
       "Cabin          687\n",
       "Embarked         2\n",
       "dtype: int64"
      ]
     },
     "execution_count": 5,
     "metadata": {},
     "output_type": "execute_result"
    }
   ],
   "source": [
    "titanic.isnull().sum()"
   ]
  },
  {
   "cell_type": "markdown",
   "metadata": {},
   "source": [
    "**Cabin** contains a lot of Nan values, we'll drop this column <br>\n",
    "We'll replace the Nan values in **Age** with the age's median, and the ones in **Embarked** with **'S'**, which is the most frequent one in this column"
   ]
  },
  {
   "cell_type": "code",
   "execution_count": 6,
   "metadata": {},
   "outputs": [
    {
     "data": {
      "text/plain": [
       "PassengerId    0\n",
       "Survived       0\n",
       "Pclass         0\n",
       "Name           0\n",
       "Sex            0\n",
       "Age            0\n",
       "SibSp          0\n",
       "Parch          0\n",
       "Ticket         0\n",
       "Fare           0\n",
       "Embarked       0\n",
       "dtype: int64"
      ]
     },
     "execution_count": 6,
     "metadata": {},
     "output_type": "execute_result"
    }
   ],
   "source": [
    "titanic.drop( 'Cabin', axis=1, inplace=True)\n",
    "# check the fillna documentation: http://pandas.pydata.org/pandas-docs/stable/generated/pandas.DataFrame.fillna.html\n",
    "titanic[\"Age\"].fillna(titanic[\"Age\"].median(),inplace=True)\n",
    "titanic[\"Embarked\"].fillna(\"S\", inplace = True)\n",
    "titanic.isnull().sum()"
   ]
  },
  {
   "cell_type": "markdown",
   "metadata": {},
   "source": [
    "## Visualization"
   ]
  },
  {
   "cell_type": "code",
   "execution_count": 7,
   "metadata": {},
   "outputs": [
    {
     "name": "stdout",
     "output_type": "stream",
     "text": [
      "survival rate = 0.3838383838383838\n"
     ]
    },
    {
     "data": {
      "text/plain": [
       "<matplotlib.axes._subplots.AxesSubplot at 0x9b375f8>"
      ]
     },
     "execution_count": 7,
     "metadata": {},
     "output_type": "execute_result"
    },
    {
     "data": {
      "image/png": "[encoded data removed]",
      "text/plain": [
       "<matplotlib.figure.Figure at 0x9b1ac88>"
      ]
     },
     "metadata": {},
     "output_type": "display_data"
    }
   ],
   "source": [
    "%matplotlib inline\n",
    "import matplotlib.pyplot as plt\n",
    "print ('survival rate =', titanic.Survived.mean())\n",
    "(titanic.groupby('Survived').size()/titanic.shape[0]).plot(kind=\"bar\",title=\"Label's Balance\")\n"
   ]
  },
  {
   "cell_type": "code",
   "execution_count": 14,
   "metadata": {
    "collapsed": true
   },
   "outputs": [],
   "source": [
    "# make a function to plot survival against passenger attribute\n",
    "def survival_rate(column,t):\n",
    "    df=pd.DataFrame()\n",
    "    df['total']=titanic.groupby(column).size()\n",
    "    df['survived'] = titanic.groupby(column).sum()['Survived']\n",
    "    df['percentage'] = round(df['survived']/df['total']*100,2)\n",
    "    print(df)\n",
    "\n",
    "    df['survived'].plot(kind=t)\n",
    "    df['total'].plot(kind=t,alpha=0.5,title=\"Survivors per \"+str(column))\n",
    "    plt.show()"
   ]
  },
  {
   "cell_type": "code",
   "execution_count": 15,
   "metadata": {},
   "outputs": [
    {
     "name": "stdout",
     "output_type": "stream",
     "text": [
      "        total  survived  percentage\n",
      "Sex                                \n",
      "female    314       233       74.20\n",
      "male      577       109       18.89\n"
     ]
    },
    {
     "data": {
      "image/png": "[encoded data removed]",
      "text/plain": [
       "<matplotlib.figure.Figure at 0x8e47d68>"
      ]
     },
     "metadata": {},
     "output_type": "display_data"
    }
   ],
   "source": [
    "# Draw survival per Sex\n",
    "survival_rate(\"Sex\",\"barh\")"
   ]
  },
  {
   "cell_type": "code",
   "execution_count": 16,
   "metadata": {},
   "outputs": [
    {
     "name": "stdout",
     "output_type": "stream",
     "text": [
      "        total  survived  percentage\n",
      "Pclass                             \n",
      "1         216       136       62.96\n",
      "2         184        87       47.28\n",
      "3         491       119       24.24\n"
     ]
    },
    {
     "data": {
      "image/png": "[encoded data removed]",
      "text/plain": [
       "<matplotlib.figure.Figure at 0x9d50eb8>"
      ]
     },
     "metadata": {},
     "output_type": "display_data"
    }
   ],
   "source": [
    "# Draw survival per Class\n",
    "survival_rate(\"Pclass\",\"barh\")"
   ]
  },
  {
   "cell_type": "code",
   "execution_count": 17,
   "metadata": {},
   "outputs": [
    {
     "name": "stdout",
     "output_type": "stream",
     "text": [
      "          total  survived  percentage\n",
      "Embarked                             \n",
      "C           168        93       55.36\n",
      "Q            77        30       38.96\n",
      "S           646       219       33.90\n"
     ]
    },
    {
     "data": {
      "image/png": "[encoded data removed]",
      "text/plain": [
       "<matplotlib.figure.Figure at 0x9fe8f28>"
      ]
     },
     "metadata": {},
     "output_type": "display_data"
    }
   ],
   "source": [
    "# Graph survived per port of embarkation\n",
    "survival_rate(\"Embarked\",\"bar\")"
   ]
  },
  {
   "cell_type": "code",
   "execution_count": 18,
   "metadata": {},
   "outputs": [
    {
     "name": "stdout",
     "output_type": "stream",
     "text": [
      "       total  survived  percentage\n",
      "Parch                             \n",
      "0        678       233       34.37\n",
      "1        118        65       55.08\n",
      "2         80        40       50.00\n",
      "3          5         3       60.00\n",
      "4          4         0        0.00\n",
      "5          5         1       20.00\n",
      "6          1         0        0.00\n"
     ]
    },
    {
     "data": {
      "image/png": "[encoded data removed]",
      "text/plain": [
       "<matplotlib.figure.Figure at 0xa07f9b0>"
      ]
     },
     "metadata": {},
     "output_type": "display_data"
    }
   ],
   "source": [
    "# Draw survived per Number of Parents/Children Aboard (Parch)\n",
    "survival_rate(\"Parch\",\"bar\")"
   ]
  },
  {
   "cell_type": "code",
   "execution_count": 12,
   "metadata": {},
   "outputs": [
    {
     "name": "stdout",
     "output_type": "stream",
     "text": [
      "       total  survived  percentage\n",
      "SibSp                             \n",
      "0        608       210       34.54\n",
      "1        209       112       53.59\n",
      "2         28        13       46.43\n",
      "3         16         4       25.00\n",
      "4         18         3       16.67\n",
      "5          5         0        0.00\n",
      "8          7         0        0.00\n"
     ]
    },
    {
     "data": {
      "image/png": "[encoded data removed]",
      "text/plain": [
       "<matplotlib.figure.Figure at 0x9f2e320>"
      ]
     },
     "metadata": {},
     "output_type": "display_data"
    }
   ],
   "source": [
    "# Draw survived per Number of Siblings/Spouses Aboard (SibSp)\n",
    "survival_rate(\"SibSp\",\"bar\")"
   ]
  },
  {
   "cell_type": "markdown",
   "metadata": {},
   "source": [
    "## Model training"
   ]
  },
  {
   "cell_type": "markdown",
   "metadata": {},
   "source": [
    "Some of the columns don't have predictive power, so let's specify which ones are included for prediction"
   ]
  },
  {
   "cell_type": "code",
   "execution_count": 19,
   "metadata": {
    "collapsed": true
   },
   "outputs": [],
   "source": [
    "predictors = [\"Pclass\", \"Sex\", \"Age\", 'SibSp' ,'Parch', \"Fare\", \"Embarked\"]  "
   ]
  },
  {
   "cell_type": "markdown",
   "metadata": {},
   "source": [
    "We need now to convert text columns in **predictors** to numerical ones"
   ]
  },
  {
   "cell_type": "code",
   "execution_count": 20,
   "metadata": {},
   "outputs": [
    {
     "data": {
      "text/html": [
       "<div>\n",
       "<style>\n",
       "    .dataframe thead tr:only-child th {\n",
       "        text-align: right;\n",
       "    }\n",
       "\n",
       "    .dataframe thead th {\n",
       "        text-align: left;\n",
       "    }\n",
       "\n",
       "    .dataframe tbody tr th {\n",
       "        vertical-align: top;\n",
       "    }\n",
       "</style>\n",
       "<table border=\"1\" class=\"dataframe\">\n",
       "  <thead>\n",
       "    <tr style=\"text-align: right;\">\n",
       "      <th></th>\n",
       "      <th>PassengerId</th>\n",
       "      <th>Survived</th>\n",
       "      <th>Pclass</th>\n",
       "      <th>Name</th>\n",
       "      <th>Sex</th>\n",
       "      <th>Age</th>\n",
       "      <th>SibSp</th>\n",
       "      <th>Parch</th>\n",
       "      <th>Ticket</th>\n",
       "      <th>Fare</th>\n",
       "      <th>Embarked</th>\n",
       "    </tr>\n",
       "  </thead>\n",
       "  <tbody>\n",
       "    <tr>\n",
       "      <th>0</th>\n",
       "      <td>1</td>\n",
       "      <td>0</td>\n",
       "      <td>3</td>\n",
       "      <td>Braund, Mr. Owen Harris</td>\n",
       "      <td>1</td>\n",
       "      <td>22.0</td>\n",
       "      <td>1</td>\n",
       "      <td>0</td>\n",
       "      <td>A/5 21171</td>\n",
       "      <td>7.2500</td>\n",
       "      <td>2</td>\n",
       "    </tr>\n",
       "    <tr>\n",
       "      <th>1</th>\n",
       "      <td>2</td>\n",
       "      <td>1</td>\n",
       "      <td>1</td>\n",
       "      <td>Cumings, Mrs. John Bradley (Florence Briggs Th...</td>\n",
       "      <td>0</td>\n",
       "      <td>38.0</td>\n",
       "      <td>1</td>\n",
       "      <td>0</td>\n",
       "      <td>PC 17599</td>\n",
       "      <td>71.2833</td>\n",
       "      <td>0</td>\n",
       "    </tr>\n",
       "    <tr>\n",
       "      <th>2</th>\n",
       "      <td>3</td>\n",
       "      <td>1</td>\n",
       "      <td>3</td>\n",
       "      <td>Heikkinen, Miss. Laina</td>\n",
       "      <td>0</td>\n",
       "      <td>26.0</td>\n",
       "      <td>0</td>\n",
       "      <td>0</td>\n",
       "      <td>STON/O2. 3101282</td>\n",
       "      <td>7.9250</td>\n",
       "      <td>2</td>\n",
       "    </tr>\n",
       "    <tr>\n",
       "      <th>3</th>\n",
       "      <td>4</td>\n",
       "      <td>1</td>\n",
       "      <td>1</td>\n",
       "      <td>Futrelle, Mrs. Jacques Heath (Lily May Peel)</td>\n",
       "      <td>0</td>\n",
       "      <td>35.0</td>\n",
       "      <td>1</td>\n",
       "      <td>0</td>\n",
       "      <td>113803</td>\n",
       "      <td>53.1000</td>\n",
       "      <td>2</td>\n",
       "    </tr>\n",
       "    <tr>\n",
       "      <th>4</th>\n",
       "      <td>5</td>\n",
       "      <td>0</td>\n",
       "      <td>3</td>\n",
       "      <td>Allen, Mr. William Henry</td>\n",
       "      <td>1</td>\n",
       "      <td>35.0</td>\n",
       "      <td>0</td>\n",
       "      <td>0</td>\n",
       "      <td>373450</td>\n",
       "      <td>8.0500</td>\n",
       "      <td>2</td>\n",
       "    </tr>\n",
       "  </tbody>\n",
       "</table>\n",
       "</div>"
      ],
      "text/plain": [
       "   PassengerId  Survived  Pclass  \\\n",
       "0            1         0       3   \n",
       "1            2         1       1   \n",
       "2            3         1       3   \n",
       "3            4         1       1   \n",
       "4            5         0       3   \n",
       "\n",
       "                                                Name  Sex   Age  SibSp  Parch  \\\n",
       "0                            Braund, Mr. Owen Harris    1  22.0      1      0   \n",
       "1  Cumings, Mrs. John Bradley (Florence Briggs Th...    0  38.0      1      0   \n",
       "2                             Heikkinen, Miss. Laina    0  26.0      0      0   \n",
       "3       Futrelle, Mrs. Jacques Heath (Lily May Peel)    0  35.0      1      0   \n",
       "4                           Allen, Mr. William Henry    1  35.0      0      0   \n",
       "\n",
       "             Ticket     Fare  Embarked  \n",
       "0         A/5 21171   7.2500         2  \n",
       "1          PC 17599  71.2833         0  \n",
       "2  STON/O2. 3101282   7.9250         2  \n",
       "3            113803  53.1000         2  \n",
       "4            373450   8.0500         2  "
      ]
     },
     "execution_count": 20,
     "metadata": {},
     "output_type": "execute_result"
    }
   ],
   "source": [
    "for col in predictors: # Loop through all columns in predictors\n",
    "    if titanic[col].dtype == 'object':  # check if column's type is object (text)\n",
    "        titanic[col] = pd.Categorical(titanic[col]).codes  # convert text to numerical\n",
    "\n",
    "titanic.head()"
   ]
  },
  {
   "cell_type": "code",
   "execution_count": 21,
   "metadata": {},
   "outputs": [
    {
     "name": "stdout",
     "output_type": "stream",
     "text": [
      "train shape (623, 7) (623,)\n",
      "test shape (268, 7) (268,)\n"
     ]
    },
    {
     "name": "stderr",
     "output_type": "stream",
     "text": [
      "D:\\conda\\lib\\site-packages\\sklearn\\cross_validation.py:44: DeprecationWarning: This module was deprecated in version 0.18 in favor of the model_selection module into which all the refactored classes and functions are moved. Also note that the interface of the new CV iterators are different from that of this module. This module will be removed in 0.20.\n",
      "  \"This module will be removed in 0.20.\", DeprecationWarning)\n"
     ]
    }
   ],
   "source": [
    "# Split the data into a training set and a testing set\n",
    "from sklearn.cross_validation import train_test_split \n",
    "X_train, X_test, y_train, y_test = train_test_split(titanic[predictors], titanic['Survived'], test_size=0.3, random_state=1)\n",
    "\n",
    "print (\"train shape\", X_train.shape, y_train.shape)\n",
    "print (\"test shape\", X_test.shape, y_test.shape)"
   ]
  },
  {
   "cell_type": "code",
   "execution_count": 24,
   "metadata": {},
   "outputs": [
    {
     "name": "stdout",
     "output_type": "stream",
     "text": [
      "train accuracy = 0.810593900482\n",
      "test accuracy = 0.768656716418\n"
     ]
    }
   ],
   "source": [
    "# import LogisticRegression from: http://scikit-learn.org/stable/modules/generated/sklearn.linear_model.LogisticRegression.html\n",
    "from sklearn.linear_model import LogisticRegression\n",
    "clf = LogisticRegression()\n",
    "clf.fit(X_train, y_train)\n",
    "train_score = clf.score(X_train, y_train)\n",
    "test_score = clf.score(X_test, y_test)\n",
    "print ('train accuracy =', train_score)\n",
    "print ('test accuracy =', test_score)"
   ]
  },
  {
   "cell_type": "markdown",
   "metadata": {},
   "source": [
    "Let's print the model's parameters"
   ]
  },
  {
   "cell_type": "code",
   "execution_count": 25,
   "metadata": {},
   "outputs": [
    {
     "name": "stdout",
     "output_type": "stream",
     "text": [
      "     Feature  Coefficient Estimate\n",
      "0     Pclass             -0.835661\n",
      "1        Sex             -2.512474\n",
      "2        Age             -0.026081\n",
      "3      SibSp             -0.303038\n",
      "4      Parch              0.067869\n",
      "5       Fare              0.002659\n",
      "6   Embarked             -0.117348\n",
      "7  Intercept              3.803960\n"
     ]
    }
   ],
   "source": [
    "coeff = pd.DataFrame()\n",
    "coeff['Feature'] = X_train.columns\n",
    "coeff['Coefficient Estimate'] = pd.Series(clf.coef_[0])\n",
    "coeff.loc[len(coeff)]=['Intercept',clf.intercept_[0]]\n",
    "print (coeff)"
   ]
  },
  {
   "cell_type": "markdown",
   "metadata": {},
   "source": [
    "We now need to predict class labels for the test set. We will also generate the class probabilities"
   ]
  },
  {
   "cell_type": "code",
   "execution_count": 26,
   "metadata": {},
   "outputs": [
    {
     "name": "stdout",
     "output_type": "stream",
     "text": [
      "[1 0 1 1 1 0 0 1 0 1 0 1 0 0 1 0 0 0 0 1 0 0 1 0 1 0 1 1 0 1 1 0 1 1 0 0 0\n",
      " 0 0 0 1 1 1 0 0 0 0 0 1 0 0 1 0 0 0 1 0 0 0 1 0 0 0 0 0 1 0 0 1 0 0 0 0 0\n",
      " 1 0 1 0 0 1 0 0 0 0 1 0 0 0 0 1 0 0 0 1 0 0 0 1 0 0 0 0 0 1 1 0 0 0 0 0 0\n",
      " 0 0 0 0 0 0 0 1 1 1 0 0 0 1 1 1 1 0 0 0 0 1 0 0 1 1 0 0 1 1 0 1 1 0 1 0 0\n",
      " 1 0 1 0 0 1 0 0 0 0 1 0 0 0 1 0 0 1 1 0 0 0 1 1 1 0 1 0 0 0 1 0 1 1 0 0 1\n",
      " 0 0 1 0 1 0 0 1 1 1 1 0 1 0 0 0 1 0 0 0 1 1 0 0 0 1 0 0 0 0 0 0 1 1 0 0 0\n",
      " 0 0 0 0 1 0 1 0 0 0 0 0 0 1 1 1 1 0 0 0 0 0 0 0 1 1 0 1 0 0 0 1 1 1 0 1 0\n",
      " 1 1 0 1 1 0 0 0 0]\n"
     ]
    }
   ],
   "source": [
    "# predict class labels for the test set\n",
    "y_pred = clf.predict(X_test)\n",
    "print (y_pred)"
   ]
  },
  {
   "cell_type": "code",
   "execution_count": 27,
   "metadata": {},
   "outputs": [
    {
     "name": "stdout",
     "output_type": "stream",
     "text": [
      "[[ 0.17498658  0.82501342]\n",
      " [ 0.89654863  0.10345137]\n",
      " [ 0.18505074  0.81494926]\n",
      " [ 0.38437631  0.61562369]\n",
      " [ 0.12775857  0.87224143]\n",
      " [ 0.87836074  0.12163926]\n",
      " [ 0.79601829  0.20398171]\n",
      " [ 0.15990222  0.84009778]\n",
      " [ 0.58878627  0.41121373]\n",
      " [ 0.45324822  0.54675178]\n",
      " [ 0.88906335  0.11093665]\n",
      " [ 0.40004872  0.59995128]\n",
      " [ 0.74064084  0.25935916]\n",
      " [ 0.78754935  0.21245065]\n",
      " [ 0.38462019  0.61537981]\n",
      " [ 0.6079067   0.3920933 ]\n",
      " [ 0.91760024  0.08239976]\n",
      " [ 0.91184305  0.08815695]\n",
      " [ 0.91436184  0.08563816]\n",
      " [ 0.28507975  0.71492025]\n",
      " [ 0.90582535  0.09417465]\n",
      " [ 0.89643176  0.10356824]\n",
      " [ 0.07770015  0.92229985]\n",
      " [ 0.70858489  0.29141511]\n",
      " [ 0.34204162  0.65795838]\n",
      " [ 0.89391134  0.10608866]\n",
      " [ 0.06611173  0.93388827]\n",
      " [ 0.30213959  0.69786041]\n",
      " [ 0.77983473  0.22016527]\n",
      " [ 0.07156778  0.92843222]\n",
      " [ 0.3736765   0.6263235 ]\n",
      " [ 0.6054001   0.3945999 ]\n",
      " [ 0.45893842  0.54106158]\n",
      " [ 0.4679678   0.5320322 ]\n",
      " [ 0.91439336  0.08560664]\n",
      " [ 0.51526176  0.48473824]\n",
      " [ 0.656529    0.343471  ]\n",
      " [ 0.89669241  0.10330759]\n",
      " [ 0.58705157  0.41294843]\n",
      " [ 0.8755466   0.1244534 ]\n",
      " [ 0.40632431  0.59367569]\n",
      " [ 0.37204551  0.62795449]\n",
      " [ 0.19585476  0.80414524]\n",
      " [ 0.70883771  0.29116229]\n",
      " [ 0.54283783  0.45716217]\n",
      " [ 0.91247723  0.08752277]\n",
      " [ 0.95220271  0.04779729]\n",
      " [ 0.83161304  0.16838696]\n",
      " [ 0.28793022  0.71206978]\n",
      " [ 0.73182426  0.26817574]\n",
      " [ 0.74461008  0.25538992]\n",
      " [ 0.2013025   0.7986975 ]\n",
      " [ 0.74689866  0.25310134]\n",
      " [ 0.82134831  0.17865169]\n",
      " [ 0.89855447  0.10144553]\n",
      " [ 0.45624712  0.54375288]\n",
      " [ 0.79297387  0.20702613]\n",
      " [ 0.78310167  0.21689833]\n",
      " [ 0.91276375  0.08723625]\n",
      " [ 0.36269022  0.63730978]\n",
      " [ 0.85465466  0.14534534]\n",
      " [ 0.87286464  0.12713536]\n",
      " [ 0.76659092  0.23340908]\n",
      " [ 0.70721398  0.29278602]\n",
      " [ 0.65585439  0.34414561]\n",
      " [ 0.32807106  0.67192894]\n",
      " [ 0.87329537  0.12670463]\n",
      " [ 0.86337741  0.13662259]\n",
      " [ 0.24865234  0.75134766]\n",
      " [ 0.87004513  0.12995487]\n",
      " [ 0.93200979  0.06799021]\n",
      " [ 0.94552827  0.05447173]\n",
      " [ 0.63024372  0.36975628]\n",
      " [ 0.89654863  0.10345137]\n",
      " [ 0.39191418  0.60808582]\n",
      " [ 0.79002839  0.20997161]\n",
      " [ 0.16029558  0.83970442]\n",
      " [ 0.88518666  0.11481334]\n",
      " [ 0.72668462  0.27331538]\n",
      " [ 0.07267233  0.92732767]\n",
      " [ 0.87847274  0.12152726]\n",
      " [ 0.9864009   0.0135991 ]\n",
      " [ 0.89651059  0.10348941]\n",
      " [ 0.91049202  0.08950798]\n",
      " [ 0.17229316  0.82770684]\n",
      " [ 0.89855852  0.10144148]\n",
      " [ 0.89651059  0.10348941]\n",
      " [ 0.87286588  0.12713412]\n",
      " [ 0.52184752  0.47815248]\n",
      " [ 0.43480898  0.56519102]\n",
      " [ 0.71841478  0.28158522]\n",
      " [ 0.87242625  0.12757375]\n",
      " [ 0.87699446  0.12300554]\n",
      " [ 0.38462019  0.61537981]\n",
      " [ 0.89615228  0.10384772]\n",
      " [ 0.56286458  0.43713542]\n",
      " [ 0.95118476  0.04881524]\n",
      " [ 0.35756811  0.64243189]\n",
      " [ 0.8726645   0.1273355 ]\n",
      " [ 0.89654863  0.10345137]\n",
      " [ 0.54217997  0.45782003]\n",
      " [ 0.68350629  0.31649371]\n",
      " [ 0.89476625  0.10523375]\n",
      " [ 0.28214744  0.71785256]\n",
      " [ 0.05879719  0.94120281]\n",
      " [ 0.88344989  0.11655011]\n",
      " [ 0.89890543  0.10109457]\n",
      " [ 0.89894771  0.10105229]\n",
      " [ 0.93532371  0.06467629]\n",
      " [ 0.92570692  0.07429308]\n",
      " [ 0.72586986  0.27413014]\n",
      " [ 0.85446323  0.14553677]\n",
      " [ 0.86197931  0.13802069]\n",
      " [ 0.91564299  0.08435701]\n",
      " [ 0.76491427  0.23508573]\n",
      " [ 0.90806006  0.09193994]\n",
      " [ 0.83452746  0.16547254]\n",
      " [ 0.67964078  0.32035922]\n",
      " [ 0.3262607   0.6737393 ]\n",
      " [ 0.43121987  0.56878013]\n",
      " [ 0.28215623  0.71784377]\n",
      " [ 0.76104438  0.23895562]\n",
      " [ 0.89654863  0.10345137]\n",
      " [ 0.74142719  0.25857281]\n",
      " [ 0.07590875  0.92409125]\n",
      " [ 0.08965518  0.91034482]\n",
      " [ 0.2310738   0.7689262 ]\n",
      " [ 0.37538449  0.62461551]\n",
      " [ 0.9864009   0.0135991 ]\n",
      " [ 0.88518666  0.11481334]\n",
      " [ 0.88646481  0.11353519]\n",
      " [ 0.92934442  0.07065558]\n",
      " [ 0.31207772  0.68792228]\n",
      " [ 0.5110738   0.4889262 ]\n",
      " [ 0.66045917  0.33954083]\n",
      " [ 0.13642883  0.86357117]\n",
      " [ 0.06838878  0.93161122]\n",
      " [ 0.93883148  0.06116852]\n",
      " [ 0.90073396  0.09926604]\n",
      " [ 0.38166041  0.61833959]\n",
      " [ 0.08969942  0.91030058]\n",
      " [ 0.91706429  0.08293571]\n",
      " [ 0.07444762  0.92555238]\n",
      " [ 0.41255008  0.58744992]\n",
      " [ 0.89657842  0.10342158]\n",
      " [ 0.41650695  0.58349305]\n",
      " [ 0.80140619  0.19859381]\n",
      " [ 0.89651059  0.10348941]\n",
      " [ 0.35909705  0.64090295]\n",
      " [ 0.88110829  0.11889171]\n",
      " [ 0.24774674  0.75225326]\n",
      " [ 0.93866686  0.06133314]\n",
      " [ 0.92069565  0.07930435]\n",
      " [ 0.34831213  0.65168787]\n",
      " [ 0.88393236  0.11606764]\n",
      " [ 0.90572606  0.09427394]\n",
      " [ 0.88128809  0.11871191]\n",
      " [ 0.92591013  0.07408987]\n",
      " [ 0.23825356  0.76174644]\n",
      " [ 0.76491427  0.23508573]\n",
      " [ 0.85977329  0.14022671]\n",
      " [ 0.89615228  0.10384772]\n",
      " [ 0.36936694  0.63063306]\n",
      " [ 0.60221924  0.39778076]\n",
      " [ 0.93769173  0.06230827]\n",
      " [ 0.34498234  0.65501766]\n",
      " [ 0.30882815  0.69117185]\n",
      " [ 0.88393236  0.11606764]\n",
      " [ 0.86366549  0.13633451]\n",
      " [ 0.65019002  0.34980998]\n",
      " [ 0.03173972  0.96826028]\n",
      " [ 0.49578097  0.50421903]\n",
      " [ 0.10144981  0.89855019]\n",
      " [ 0.89415705  0.10584295]\n",
      " [ 0.1787837   0.8212163 ]\n",
      " [ 0.62460176  0.37539824]\n",
      " [ 0.88519118  0.11480882]\n",
      " [ 0.86529361  0.13470639]\n",
      " [ 0.33635478  0.66364522]\n",
      " [ 0.93133296  0.06866704]\n",
      " [ 0.08808253  0.91191747]\n",
      " [ 0.26131864  0.73868136]\n",
      " [ 0.82818797  0.17181203]\n",
      " [ 0.90057268  0.09942732]\n",
      " [ 0.07314975  0.92685025]\n",
      " [ 0.74066172  0.25933828]\n",
      " [ 0.89651059  0.10348941]\n",
      " [ 0.06144193  0.93855807]\n",
      " [ 0.88518666  0.11481334]\n",
      " [ 0.13073535  0.86926465]\n",
      " [ 0.59294668  0.40705332]\n",
      " [ 0.70226149  0.29773851]\n",
      " [ 0.38462019  0.61537981]\n",
      " [ 0.28394381  0.71605619]\n",
      " [ 0.29574841  0.70425159]\n",
      " [ 0.12397788  0.87602212]\n",
      " [ 0.79327617  0.20672383]\n",
      " [ 0.18670649  0.81329351]\n",
      " [ 0.88772979  0.11227021]\n",
      " [ 0.77975645  0.22024355]\n",
      " [ 0.86699131  0.13300869]\n",
      " [ 0.29273096  0.70726904]\n",
      " [ 0.87286588  0.12713412]\n",
      " [ 0.71903452  0.28096548]\n",
      " [ 0.69830977  0.30169023]\n",
      " [ 0.21305967  0.78694033]\n",
      " [ 0.21285972  0.78714028]\n",
      " [ 0.774164    0.225836  ]\n",
      " [ 0.6079067   0.3920933 ]\n",
      " [ 0.95258202  0.04741798]\n",
      " [ 0.08813634  0.91186366]\n",
      " [ 0.92742281  0.07257719]\n",
      " [ 0.87430472  0.12569528]\n",
      " [ 0.81037077  0.18962923]\n",
      " [ 0.84330209  0.15669791]\n",
      " [ 0.91226461  0.08773539]\n",
      " [ 0.88542744  0.11457256]\n",
      " [ 0.07505646  0.92494354]\n",
      " [ 0.22405947  0.77594053]\n",
      " [ 0.76292396  0.23707604]\n",
      " [ 0.6057177   0.3942823 ]\n",
      " [ 0.87286588  0.12713412]\n",
      " [ 0.74153285  0.25846715]\n",
      " [ 0.7386585   0.2613415 ]\n",
      " [ 0.91091992  0.08908008]\n",
      " [ 0.70851936  0.29148064]\n",
      " [ 0.08226676  0.91773324]\n",
      " [ 0.60736021  0.39263979]\n",
      " [ 0.27957415  0.72042585]\n",
      " [ 0.6971221   0.3028779 ]\n",
      " [ 0.69692964  0.30307036]\n",
      " [ 0.8583444   0.1416556 ]\n",
      " [ 0.75693219  0.24306781]\n",
      " [ 0.81255524  0.18744476]\n",
      " [ 0.91835898  0.08164102]\n",
      " [ 0.42503625  0.57496375]\n",
      " [ 0.44347098  0.55652902]\n",
      " [ 0.35303583  0.64696417]\n",
      " [ 0.39101009  0.60898991]\n",
      " [ 0.90951464  0.09048536]\n",
      " [ 0.90976927  0.09023073]\n",
      " [ 0.84838753  0.15161247]\n",
      " [ 0.87854256  0.12145744]\n",
      " [ 0.89421426  0.10578574]\n",
      " [ 0.92322921  0.07677079]\n",
      " [ 0.90357686  0.09642314]\n",
      " [ 0.23694013  0.76305987]\n",
      " [ 0.26003734  0.73996266]\n",
      " [ 0.54924042  0.45075958]\n",
      " [ 0.12712806  0.87287194]\n",
      " [ 0.92418023  0.07581977]\n",
      " [ 0.88781075  0.11218925]\n",
      " [ 0.69234839  0.30765161]\n",
      " [ 0.47849767  0.52150233]\n",
      " [ 0.15486966  0.84513034]\n",
      " [ 0.32560529  0.67439471]\n",
      " [ 0.76419263  0.23580737]\n",
      " [ 0.28974883  0.71025117]\n",
      " [ 0.83038961  0.16961039]\n",
      " [ 0.46795014  0.53204986]\n",
      " [ 0.15727815  0.84272185]\n",
      " [ 0.91091992  0.08908008]\n",
      " [ 0.38462019  0.61537981]\n",
      " [ 0.19057055  0.80942945]\n",
      " [ 0.77722446  0.22277554]\n",
      " [ 0.80884879  0.19115121]\n",
      " [ 0.56390312  0.43609688]\n",
      " [ 0.7537903   0.2462097 ]]\n"
     ]
    }
   ],
   "source": [
    "# generate class probabilities : http://scikit-learn.org/stable/modules/generated/sklearn.linear_model.LogisticRegression.html\n",
    "y_probs = clf.predict_proba(X_test)\n",
    "print (y_probs)"
   ]
  },
  {
   "cell_type": "markdown",
   "metadata": {},
   "source": [
    "As you can see, the classifier outputs two probabilities for each row. It's predicting a 1 (Survived) any time the probability in the second column is greater than 0.5. Let's visualize it all together."
   ]
  },
  {
   "cell_type": "code",
   "execution_count": 28,
   "metadata": {},
   "outputs": [
    {
     "data": {
      "text/html": [
       "<div>\n",
       "<style>\n",
       "    .dataframe thead tr:only-child th {\n",
       "        text-align: right;\n",
       "    }\n",
       "\n",
       "    .dataframe thead th {\n",
       "        text-align: left;\n",
       "    }\n",
       "\n",
       "    .dataframe tbody tr th {\n",
       "        vertical-align: top;\n",
       "    }\n",
       "</style>\n",
       "<table border=\"1\" class=\"dataframe\">\n",
       "  <thead>\n",
       "    <tr style=\"text-align: right;\">\n",
       "      <th></th>\n",
       "      <th>Survived_original</th>\n",
       "      <th>Survived_predicted</th>\n",
       "      <th>Survived_proba</th>\n",
       "      <th>Comparison</th>\n",
       "    </tr>\n",
       "  </thead>\n",
       "  <tbody>\n",
       "    <tr>\n",
       "      <th>862</th>\n",
       "      <td>1</td>\n",
       "      <td>1</td>\n",
       "      <td>0.825013</td>\n",
       "      <td>True</td>\n",
       "    </tr>\n",
       "    <tr>\n",
       "      <th>223</th>\n",
       "      <td>0</td>\n",
       "      <td>0</td>\n",
       "      <td>0.103451</td>\n",
       "      <td>True</td>\n",
       "    </tr>\n",
       "    <tr>\n",
       "      <th>84</th>\n",
       "      <td>1</td>\n",
       "      <td>1</td>\n",
       "      <td>0.814949</td>\n",
       "      <td>True</td>\n",
       "    </tr>\n",
       "    <tr>\n",
       "      <th>680</th>\n",
       "      <td>0</td>\n",
       "      <td>1</td>\n",
       "      <td>0.615624</td>\n",
       "      <td>False</td>\n",
       "    </tr>\n",
       "    <tr>\n",
       "      <th>535</th>\n",
       "      <td>1</td>\n",
       "      <td>1</td>\n",
       "      <td>0.872241</td>\n",
       "      <td>True</td>\n",
       "    </tr>\n",
       "  </tbody>\n",
       "</table>\n",
       "</div>"
      ],
      "text/plain": [
       "     Survived_original  Survived_predicted  Survived_proba  Comparison\n",
       "862                  1                   1        0.825013        True\n",
       "223                  0                   0        0.103451        True\n",
       "84                   1                   1        0.814949        True\n",
       "680                  0                   1        0.615624       False\n",
       "535                  1                   1        0.872241        True"
      ]
     },
     "execution_count": 28,
     "metadata": {},
     "output_type": "execute_result"
    }
   ],
   "source": [
    "pred = pd.DataFrame({        \n",
    "        \"Survived_original\": y_test,\n",
    "        \"Survived_predicted\": y_pred,\n",
    "        \"Survived_proba\": np.transpose(y_probs)[1]      \n",
    "        })\n",
    "pred[\"Comparison\"]= pred.Survived_original ==pred.Survived_predicted\n",
    "pred.head()"
   ]
  },
  {
   "cell_type": "markdown",
   "metadata": {},
   "source": [
    "## Confusion matrix"
   ]
  },
  {
   "cell_type": "code",
   "execution_count": 29,
   "metadata": {},
   "outputs": [
    {
     "name": "stdout",
     "output_type": "stream",
     "text": [
      "[[132  21]\n",
      " [ 41  74]]\n",
      "             precision    recall  f1-score   support\n",
      "\n",
      "          0       0.76      0.86      0.81       153\n",
      "          1       0.78      0.64      0.70       115\n",
      "\n",
      "avg / total       0.77      0.77      0.76       268\n",
      "\n"
     ]
    }
   ],
   "source": [
    "from sklearn import metrics\n",
    "print (metrics.confusion_matrix(y_test, y_pred))\n",
    "print (metrics.classification_report(y_test, y_pred))"
   ]
  },
  {
   "cell_type": "markdown",
   "metadata": {},
   "source": [
    "As you can see, we can have the classification report for each class"
   ]
  },
  {
   "cell_type": "markdown",
   "metadata": {},
   "source": [
    "## K-Fold Cross Validation"
   ]
  },
  {
   "cell_type": "code",
   "execution_count": 39,
   "metadata": {},
   "outputs": [
    {
     "name": "stdout",
     "output_type": "stream",
     "text": [
      "[ 0.7877095   0.79888268  0.78089888  0.76404494  0.81920904]\n",
      "0.790149007709\n"
     ]
    }
   ],
   "source": [
    "# import cross_validation from: http://scikit-learn.org/stable/modules/generated/sklearn.model_selection.cross_val_score.html\n",
    "from sklearn import cross_validation\n",
    "clf = LogisticRegression()\n",
    "scores = cross_validation.cross_val_score(clf, titanic[predictors], titanic[\"Survived\"], scoring='accuracy', cv=5)\n",
    "## see model \n",
    "print(scores)\n",
    "# Take the mean of the scores (because we have one for each fold)\n",
    "print(scores.mean())"
   ]
  },
  {
   "cell_type": "markdown",
   "metadata": {
    "collapsed": true
   },
   "source": [
    "When you are improving a model, you want to make sur that you are really doing it and not just being lucky. This is why it's good to work with cross validation instead of one train/test split."
   ]
  },
  {
   "cell_type": "code",
   "execution_count": null,
   "metadata": {
    "collapsed": true
   },
   "outputs": [],
   "source": [
    "     "
   ]
  }
 ],
 "metadata": {
  "anaconda-cloud": {},
  "kernelspec": {
   "display_name": "Python 3",
   "language": "python",
   "name": "python3"
  },
  "language_info": {
   "codemirror_mode": {
    "name": "ipython",
    "version": 3
   },
   "file_extension": ".py",
   "mimetype": "text/x-python",
   "name": "python",
   "nbconvert_exporter": "python",
   "pygments_lexer": "ipython3",
   "version": "3.6.5"
  }
 },
 "nbformat": 4,
 "nbformat_minor": 1
}
